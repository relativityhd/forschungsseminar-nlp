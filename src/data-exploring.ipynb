{
 "cells": [
  {
   "cell_type": "code",
   "execution_count": 44,
   "metadata": {},
   "outputs": [
    {
     "name": "stdout",
     "output_type": "stream",
     "text": [
      "Wikipedia dewiki\n"
     ]
    }
   ],
   "source": [
    "import mwxml\n",
    "import regex as re\n",
    "from tqdm import tqdm\n",
    "\n",
    "dump = mwxml.Dump.from_file(open(\"../data/dewiki-20220520-pages-articles-multistream1.xml\")) #dewiki-20220520-pages-articles-multistream1.xml\n",
    "print(dump.site_info.name, dump.site_info.dbname)"
   ]
  },
  {
   "cell_type": "code",
   "execution_count": null,
   "metadata": {},
   "outputs": [],
   "source": [
    "pattern = re.compile('.*\\[\\[Kategorie:(.*)\\]\\].*')\n",
    "list_of_words = ['hersteller', 'unternehmen', 'Unternehmen', 'Hersteller']\n",
    "words_re = re.compile(\"|\".join(list_of_words))\n",
    "\n",
    "#lines = []\n",
    "with open(\"../data/title-categories-map.txt\", mode=\"w\") as outfile:\n",
    "    for i, page in enumerate(tqdm(dump)):\n",
    "        line = \"\"\n",
    "        line += page.title + \",\"\n",
    "        for revision in page:\n",
    "            for match in pattern.finditer(revision.text):\n",
    "                line += match.group(1) + \",\"\n",
    "        line = line.strip(\",\")\n",
    "        #lines.append(line)\n",
    "        if words_re.search(str(line)):\n",
    "            outfile.write(line+\"\\n\")"
   ]
  },
  {
   "cell_type": "code",
   "execution_count": null,
   "metadata": {},
   "outputs": [],
   "source": [
    "num_lines = sum(1 for line in open('data/title-categories-map.txt'))\n",
    "print(num_lines)"
   ]
  },
  {
   "cell_type": "markdown",
   "metadata": {},
   "source": [
    "Aufgabe 2c) \n",
    "\n",
    "1. Infobox der Unternehmen extrahieren:\n",
    "\n",
    "Der Aufbau einer Infobox eines Unternehmens in dessen Wikipedia Artikel ist streng definiert. Die Infobox beginnt mit drei geschweiften Klammern und dem Typ des Eintrags, in diesem Fall {{{Infobox Unternehmen. Sie enthält maximal 14 Einträge: Name, Logo, Unternehmensform, ISIN, Gründungsdatum, Auflösungsdatum, Sitz, Leitung, Mitarbeiterzahl, Umsatz, Stand, Branche, Website. Erforderlich sind hiervon Unternehmensform sowie Sitz. \n",
    "\n",
    "Die Infobox wird mit folgendem Regex Pattern definiert: ((?<={{Infobox Unternehmen..).*?(?<=Homepage).*?(}})).\n",
    "Es wird der Inhalt nach {{{Infobox Unternehmen bis einschließlich dem letzten Eintrag Homepage.*?}}} ausgelesen. \n",
    "\n",
    "Verbesserungsvorschlag: Einträge einzeln auslesen, sodass nur die Parameter ausgegeben werden, die einen Wert besitzen."
   ]
  },
  {
   "cell_type": "code",
   "execution_count": 99,
   "metadata": {},
   "outputs": [
    {
     "name": "stderr",
     "output_type": "stream",
     "text": [
      "155401it [01:26, 1801.26it/s]\n"
     ]
    }
   ],
   "source": [
    "#getting the infobox of a company\n",
    "\n",
    "infobox = re.compile('((?<={{Infobox Unternehmen.).*?(?<=Homepage).*?(}}))') #regex pattern gets text between keyword 'Infobox Unternehmen' and 'Homepage' \n",
    "list_of_words = ['hersteller', 'unternehmen', 'Unternehmen', 'Hersteller']\n",
    "words_re = re.compile(\"|\".join(list_of_words))\n",
    "\n",
    "\n",
    "with open(\"../data/infobox.txt\", mode=\"w\") as outfile:\n",
    "    for i, page in enumerate(tqdm(dump)):\n",
    "        line = ''\n",
    "        for revision in page: \n",
    "            revision = re.sub(r'\\n', '', revision.text) #removing linebreaks \n",
    "            for match in infobox.finditer(revision):\n",
    "                line += match.group(1) + \"\\n\" \n",
    "                line = \" \".join(line.split()) #if there are multiple whitespaces, all except for one get deleted \n",
    "                outfile.write(line+\"\\n\")\n",
    "    "
   ]
  },
  {
   "cell_type": "code",
   "execution_count": 93,
   "metadata": {},
   "outputs": [
    {
     "name": "stdout",
     "output_type": "stream",
     "text": [
      "697\n"
     ]
    }
   ],
   "source": [
    "num_lines = sum(1 for line in open('../data/infobox.txt'))\n",
    "print(num_lines)\n",
    "#Output:697"
   ]
  },
  {
   "cell_type": "markdown",
   "metadata": {},
   "source": [
    "Nun sollen auch von Unternehmen ohne Infobox der Namen sowie dessen Webseite ausgegeben werden. \n",
    "Hierfür wird im ersten Schritt geprüft, ob der Wikipedia Artikel des Unternehmens das Wort Infobox enthält. Dies wird mit folgendem Regex Pattern geprüft: (?!.*?Infobox)^.*$ \n",
    "Enthält der Artikel das Wort nicht, so erkennt das Regex Pattern den gesamten Artikel. \n",
    "Wird der Artikel als Unternehmensartikel klassifiziert und enthält er das Wort Infobox nicht, wird der Artikelname (=Unternehmensname) ausgegeben. \n",
    "Um nun auch die Webseite des Unternehmens ausgeben zu lassen, wird folgendes Regex Pattern angewandt: \n",
    ".*((?<=Weblinks...).*?(?=...Einzelnachweise)).*\n",
    "Dies gibt alle in der Sektion Weblinks eingetragnenen Webseiten aus, worunter auch die offizielle Unternehmenswebseite fällt. \n",
    "\n",
    "Verbesserungsvorschlag: Es werden viele Artikel ausgelesen, die die Kategorie Unternehmsart enthalten, aber keine Unternehmen sind. Diese sind oftmals allgemeine Informationsseiten und enthalten daher auch keine Infobox, weshalb sie vermehrt ausgelesen werden. \n",
    "Darüber hinaus wird für die Unternehmenswebseite die ganze Sektion der Weblinks ausgelesen, die oftmals auch andere weiterführende Links enthält. Eine Verbesserungsmöglichkeit bestände darin, den Namen des Unternehmens in den Links zu suchen und nur die Links, die den Namen enthalten, auszugegeben. "
   ]
  },
  {
   "cell_type": "code",
   "execution_count": 157,
   "metadata": {},
   "outputs": [
    {
     "name": "stderr",
     "output_type": "stream",
     "text": [
      "155401it [00:55, 2781.71it/s]\n"
     ]
    }
   ],
   "source": [
    "#Companies without infobox\n",
    "pattern = re.compile('.*\\[\\[Kategorie:(.*)\\]\\].*')\n",
    "no_infobox = re.compile('(?!.*?Infobox)^.*$') #gets the whole text if it doesn´t contain 'Infobox'\n",
    "list_of_words = ['hersteller', 'unternehmen', 'Unternehmen', 'Hersteller']\n",
    "words_re = re.compile(\"|\".join(list_of_words))\n",
    "\n",
    "pattern_name  = re.compile('((?<=\\''').*?(?=\\'''))') #company name between ''' '''\n",
    "pattern_website = re.compile('.*((?<=Weblinks...).*?(?=...Einzelnachweise)).*') \n",
    "\n",
    "\n",
    "with open(\"../data/company_name&website.txt\", mode=\"w\") as outfile:\n",
    "    for i, page in enumerate(tqdm(dump)):\n",
    "        line = \"\"\n",
    "        line += page.title\n",
    "        website = \"\"\n",
    "        for revision in page:\n",
    "            revision = re.sub(r'\\n', '', revision.text) #removing the line breaks \n",
    "            for match in pattern.finditer(revision):\n",
    "                line += match.group(1)  \n",
    "        \n",
    "        if words_re.search(str(line)):\n",
    "            for match in no_infobox.finditer(revision): #getting companies without an infobox \n",
    "                for match in pattern_website.finditer(revision): #gets the weblinks which contains the company url \n",
    "                    outfile.write(page.title+\"\\n\") #printing the page title = company name \n",
    "                    website += match.group(1)\n",
    "                    outfile.write(website+\"\\n\"+\"\\n\")\n",
    "\n",
    "#oft Matches mit der Kategorie Unternehmensart --> rausnehmen "
   ]
  },
  {
   "cell_type": "code",
   "execution_count": null,
   "metadata": {},
   "outputs": [],
   "source": [
    "companies_without_infobox = sum((1/3) for line in open('../data/company_name&website.txt'))\n",
    "print(companies_without_infobox)\n",
    "#Output: 136 "
   ]
  },
  {
   "cell_type": "markdown",
   "metadata": {},
   "source": [
    "Versuch mit dem Unternehmensnamen im Link"
   ]
  },
  {
   "cell_type": "code",
   "execution_count": 132,
   "metadata": {},
   "outputs": [
    {
     "name": "stderr",
     "output_type": "stream",
     "text": [
      "155401it [00:49, 3150.73it/s]\n"
     ]
    }
   ],
   "source": [
    "#Companies without infobox\n",
    "pattern = re.compile('.*\\[\\[Kategorie:(.*)\\]\\].*')\n",
    "no_infobox = re.compile('(?!.*?Infobox)^.*$') #gets the whole text if it doesn´t contain 'Infobox'\n",
    "list_of_words = ['hersteller', 'unternehmen', 'Unternehmen', 'Hersteller']\n",
    "words_re = re.compile(\"|\".join(list_of_words))\n",
    "\n",
    "\n",
    "pattern_name  = re.compile('((?<=\\''').*?(?=\\'''))') #company name between ''' '''\n",
    "#pattern_website = re.compile('.*((?<=Weblinks...).*?(?=...Einzelnachweise)).*') \n",
    "company_name = page.title \n",
    "pattern_website = re.compile('(\\https)(.+?)(=?(\\.com|\\.de|\\.org))')\n",
    "company_names = re.compile(\"|\".join(company_name))\n",
    "\n",
    "\n",
    "with open(\"../data/company_name&website.txt\", mode=\"w\") as outfile:\n",
    "    for i, page in enumerate(tqdm(dump)):\n",
    "        line = \"\"\n",
    "        line += page.title + \",\"\n",
    "        website_url = \"\"\n",
    "        for revision in page:\n",
    "            revision = re.sub(r'\\n', '', revision.text) #removing the line breaks \n",
    "            for match in pattern.finditer(revision):\n",
    "                line += match.group(1)  \n",
    "        \n",
    "        if words_re.search(str(line)) and no_infobox.finditer(revision): #getting companies without an infobox \n",
    "            outfile.write(page.title + '\\n') #printing the page title = company name \n",
    "            for match in pattern_website.finditer(revision):\n",
    "                website_url = match\n",
    "                if company_names.search(str(website_url)):\n",
    "                    website_url += match\n",
    "                    outfile.write(website_url + \"\\n\")\n"
   ]
  },
  {
   "cell_type": "markdown",
   "metadata": {},
   "source": [
    "Um nun eine Kurzbeschreibung des Unternehmens zu erhalten, wird der erste Satz des Artikels erfasst. Dieser enthält bei Unternehmen den Unternehmensnamen eingefasst in ''' '''. Aus diesem Grund wird folgendes Regex Pattern angewandt, um den ersten Satz auszulesen: \n",
    ".*((?<=\\''' ).*?(?<=\\.)) "
   ]
  },
  {
   "cell_type": "code",
   "execution_count": 46,
   "metadata": {},
   "outputs": [
    {
     "name": "stderr",
     "output_type": "stream",
     "text": [
      "0it [00:00, ?it/s]\n"
     ]
    },
    {
     "ename": "RuntimeError",
     "evalue": "generator raised StopIteration",
     "output_type": "error",
     "traceback": [
      "\u001b[0;31m---------------------------------------------------------------------------\u001b[0m",
      "\u001b[0;31mStopIteration\u001b[0m                             Traceback (most recent call last)",
      "\u001b[0;32m~/opt/anaconda3/envs/forschungsseminarenv/lib/python3.7/site-packages/mwxml/element_iterator.py\u001b[0m in \u001b[0;36m__iter__\u001b[0;34m(self)\u001b[0m\n\u001b[1;32m     64\u001b[0m \u001b[0;34m\u001b[0m\u001b[0m\n\u001b[0;32m---> 65\u001b[0;31m                 \u001b[0msub_iterator\u001b[0m\u001b[0;34m.\u001b[0m\u001b[0mclear\u001b[0m\u001b[0;34m(\u001b[0m\u001b[0;34m)\u001b[0m\u001b[0;34m\u001b[0m\u001b[0;34m\u001b[0m\u001b[0m\n\u001b[0m\u001b[1;32m     66\u001b[0m \u001b[0;34m\u001b[0m\u001b[0m\n",
      "\u001b[0;32m~/opt/anaconda3/envs/forschungsseminarenv/lib/python3.7/site-packages/mwxml/element_iterator.py\u001b[0m in \u001b[0;36mclear\u001b[0;34m(self)\u001b[0m\n\u001b[1;32m     78\u001b[0m     \u001b[0;32mdef\u001b[0m \u001b[0mclear\u001b[0m\u001b[0;34m(\u001b[0m\u001b[0mself\u001b[0m\u001b[0;34m)\u001b[0m\u001b[0;34m:\u001b[0m\u001b[0;34m\u001b[0m\u001b[0;34m\u001b[0m\u001b[0m\n\u001b[0;32m---> 79\u001b[0;31m         \u001b[0mself\u001b[0m\u001b[0;34m.\u001b[0m\u001b[0mcomplete\u001b[0m\u001b[0;34m(\u001b[0m\u001b[0;34m)\u001b[0m\u001b[0;34m\u001b[0m\u001b[0;34m\u001b[0m\u001b[0m\n\u001b[0m\u001b[1;32m     80\u001b[0m         \u001b[0mself\u001b[0m\u001b[0;34m.\u001b[0m\u001b[0melement\u001b[0m\u001b[0;34m.\u001b[0m\u001b[0mclear\u001b[0m\u001b[0;34m(\u001b[0m\u001b[0;34m)\u001b[0m\u001b[0;34m\u001b[0m\u001b[0;34m\u001b[0m\u001b[0m\n",
      "\u001b[0;32m~/opt/anaconda3/envs/forschungsseminarenv/lib/python3.7/site-packages/mwxml/element_iterator.py\u001b[0m in \u001b[0;36mcomplete\u001b[0;34m(self)\u001b[0m\n\u001b[1;32m     71\u001b[0m         \u001b[0;32mwhile\u001b[0m \u001b[0;32mnot\u001b[0m \u001b[0mself\u001b[0m\u001b[0;34m.\u001b[0m\u001b[0mdone\u001b[0m \u001b[0;32mand\u001b[0m \u001b[0mself\u001b[0m\u001b[0;34m.\u001b[0m\u001b[0mpointer\u001b[0m\u001b[0;34m.\u001b[0m\u001b[0mdepth\u001b[0m\u001b[0;34m(\u001b[0m\u001b[0;34m)\u001b[0m \u001b[0;34m>\u001b[0m \u001b[0mself\u001b[0m\u001b[0;34m.\u001b[0m\u001b[0mdepth\u001b[0m\u001b[0;34m:\u001b[0m\u001b[0;34m\u001b[0m\u001b[0;34m\u001b[0m\u001b[0m\n\u001b[0;32m---> 72\u001b[0;31m             \u001b[0mevent\u001b[0m\u001b[0;34m,\u001b[0m \u001b[0melement\u001b[0m \u001b[0;34m=\u001b[0m \u001b[0mnext\u001b[0m\u001b[0;34m(\u001b[0m\u001b[0mself\u001b[0m\u001b[0;34m.\u001b[0m\u001b[0mpointer\u001b[0m\u001b[0;34m)\u001b[0m\u001b[0;34m\u001b[0m\u001b[0;34m\u001b[0m\u001b[0m\n\u001b[0m\u001b[1;32m     73\u001b[0m             \u001b[0;32mif\u001b[0m \u001b[0mself\u001b[0m\u001b[0;34m.\u001b[0m\u001b[0mpointer\u001b[0m\u001b[0;34m.\u001b[0m\u001b[0mdepth\u001b[0m\u001b[0;34m(\u001b[0m\u001b[0;34m)\u001b[0m \u001b[0;34m>\u001b[0m \u001b[0mself\u001b[0m\u001b[0;34m.\u001b[0m\u001b[0mdepth\u001b[0m\u001b[0;34m:\u001b[0m\u001b[0;34m\u001b[0m\u001b[0;34m\u001b[0m\u001b[0m\n",
      "\u001b[0;32m~/opt/anaconda3/envs/forschungsseminarenv/lib/python3.7/site-packages/mwxml/element_iterator.py\u001b[0m in \u001b[0;36m__next__\u001b[0;34m(self)\u001b[0m\n\u001b[1;32m     21\u001b[0m     \u001b[0;32mdef\u001b[0m \u001b[0m__next__\u001b[0m\u001b[0;34m(\u001b[0m\u001b[0mself\u001b[0m\u001b[0;34m)\u001b[0m\u001b[0;34m:\u001b[0m\u001b[0;34m\u001b[0m\u001b[0;34m\u001b[0m\u001b[0m\n\u001b[0;32m---> 22\u001b[0;31m         \u001b[0mevent\u001b[0m\u001b[0;34m,\u001b[0m \u001b[0melement\u001b[0m \u001b[0;34m=\u001b[0m \u001b[0mnext\u001b[0m\u001b[0;34m(\u001b[0m\u001b[0mself\u001b[0m\u001b[0;34m.\u001b[0m\u001b[0metree_events\u001b[0m\u001b[0;34m)\u001b[0m\u001b[0;34m\u001b[0m\u001b[0;34m\u001b[0m\u001b[0m\n\u001b[0m\u001b[1;32m     23\u001b[0m \u001b[0;34m\u001b[0m\u001b[0m\n",
      "\u001b[0;31mStopIteration\u001b[0m: ",
      "\nThe above exception was the direct cause of the following exception:\n",
      "\u001b[0;31mRuntimeError\u001b[0m                              Traceback (most recent call last)",
      "\u001b[0;32m/var/folders/4b/35ztm66j19g880hf_gw00mkh0000gn/T/ipykernel_1067/1910913990.py\u001b[0m in \u001b[0;36m<module>\u001b[0;34m\u001b[0m\n\u001b[1;32m      7\u001b[0m \u001b[0;34m\u001b[0m\u001b[0m\n\u001b[1;32m      8\u001b[0m \u001b[0;32mwith\u001b[0m \u001b[0mopen\u001b[0m\u001b[0;34m(\u001b[0m\u001b[0;34m\"../data/firstsentence.txt\"\u001b[0m\u001b[0;34m,\u001b[0m \u001b[0mmode\u001b[0m\u001b[0;34m=\u001b[0m\u001b[0;34m\"w\"\u001b[0m\u001b[0;34m)\u001b[0m \u001b[0;32mas\u001b[0m \u001b[0moutfile\u001b[0m\u001b[0;34m:\u001b[0m\u001b[0;34m\u001b[0m\u001b[0;34m\u001b[0m\u001b[0m\n\u001b[0;32m----> 9\u001b[0;31m     \u001b[0;32mfor\u001b[0m \u001b[0mi\u001b[0m\u001b[0;34m,\u001b[0m \u001b[0mpage\u001b[0m \u001b[0;32min\u001b[0m \u001b[0menumerate\u001b[0m\u001b[0;34m(\u001b[0m\u001b[0mtqdm\u001b[0m\u001b[0;34m(\u001b[0m\u001b[0mdump\u001b[0m\u001b[0;34m)\u001b[0m\u001b[0;34m)\u001b[0m\u001b[0;34m:\u001b[0m\u001b[0;34m\u001b[0m\u001b[0;34m\u001b[0m\u001b[0m\n\u001b[0m\u001b[1;32m     10\u001b[0m         \u001b[0mline\u001b[0m \u001b[0;34m=\u001b[0m \u001b[0;34m\"\"\u001b[0m\u001b[0;34m\u001b[0m\u001b[0;34m\u001b[0m\u001b[0m\n\u001b[1;32m     11\u001b[0m         \u001b[0mline\u001b[0m \u001b[0;34m+=\u001b[0m \u001b[0mpage\u001b[0m\u001b[0;34m.\u001b[0m\u001b[0mtitle\u001b[0m\u001b[0;34m\u001b[0m\u001b[0;34m\u001b[0m\u001b[0m\n",
      "\u001b[0;32m~/opt/anaconda3/envs/forschungsseminarenv/lib/python3.7/site-packages/tqdm/std.py\u001b[0m in \u001b[0;36m__iter__\u001b[0;34m(self)\u001b[0m\n\u001b[1;32m   1193\u001b[0m \u001b[0;34m\u001b[0m\u001b[0m\n\u001b[1;32m   1194\u001b[0m         \u001b[0;32mtry\u001b[0m\u001b[0;34m:\u001b[0m\u001b[0;34m\u001b[0m\u001b[0;34m\u001b[0m\u001b[0m\n\u001b[0;32m-> 1195\u001b[0;31m             \u001b[0;32mfor\u001b[0m \u001b[0mobj\u001b[0m \u001b[0;32min\u001b[0m \u001b[0miterable\u001b[0m\u001b[0;34m:\u001b[0m\u001b[0;34m\u001b[0m\u001b[0;34m\u001b[0m\u001b[0m\n\u001b[0m\u001b[1;32m   1196\u001b[0m                 \u001b[0;32myield\u001b[0m \u001b[0mobj\u001b[0m\u001b[0;34m\u001b[0m\u001b[0;34m\u001b[0m\u001b[0m\n\u001b[1;32m   1197\u001b[0m                 \u001b[0;31m# Update and possibly print the progressbar.\u001b[0m\u001b[0;34m\u001b[0m\u001b[0;34m\u001b[0m\u001b[0;34m\u001b[0m\u001b[0m\n",
      "\u001b[0;32m~/opt/anaconda3/envs/forschungsseminarenv/lib/python3.7/site-packages/mwxml/iteration/dump.py\u001b[0m in \u001b[0;36mload_items\u001b[0;34m(cls, first_item_element, element, namespace_map)\u001b[0m\n\u001b[1;32m     89\u001b[0m             \u001b[0mfirst_item_element\u001b[0m\u001b[0;34m.\u001b[0m\u001b[0mclear\u001b[0m\u001b[0;34m(\u001b[0m\u001b[0;34m)\u001b[0m\u001b[0;34m\u001b[0m\u001b[0;34m\u001b[0m\u001b[0m\n\u001b[1;32m     90\u001b[0m \u001b[0;34m\u001b[0m\u001b[0m\n\u001b[0;32m---> 91\u001b[0;31m         \u001b[0;32mfor\u001b[0m \u001b[0mitem_element\u001b[0m \u001b[0;32min\u001b[0m \u001b[0melement\u001b[0m\u001b[0;34m:\u001b[0m\u001b[0;34m\u001b[0m\u001b[0;34m\u001b[0m\u001b[0m\n\u001b[0m\u001b[1;32m     92\u001b[0m             \u001b[0;32myield\u001b[0m \u001b[0mcls\u001b[0m\u001b[0;34m.\u001b[0m\u001b[0mprocess_item\u001b[0m\u001b[0;34m(\u001b[0m\u001b[0mitem_element\u001b[0m\u001b[0;34m,\u001b[0m \u001b[0mnamespace_map\u001b[0m\u001b[0;34m)\u001b[0m\u001b[0;34m\u001b[0m\u001b[0;34m\u001b[0m\u001b[0m\n\u001b[1;32m     93\u001b[0m \u001b[0;34m\u001b[0m\u001b[0m\n",
      "\u001b[0;31mRuntimeError\u001b[0m: generator raised StopIteration"
     ]
    }
   ],
   "source": [
    "pattern_firstsentence = re.compile('((?<=\\''' ).*?(?<=\\.)+)')\n",
    "pattern = re.compile('.*\\[\\[Kategorie:(.*)\\]\\].*')\n",
    "list_of_words = ['hersteller', 'unternehmen', 'Unternehmen', 'Hersteller']\n",
    "words_re = re.compile(\"|\".join(list_of_words))\n",
    "\n",
    "#Erster Satz fängt meistens mit dem Firmennamen in ''' ''' an. Dann wird der erste Punkt gesucht.\n",
    "\n",
    "with open(\"../data/firstsentence.txt\", mode=\"w\") as outfile:\n",
    "    for i, page in enumerate(tqdm(dump)):\n",
    "        line = \"\"\n",
    "        line += page.title\n",
    "        firstsentence = \"\"\n",
    "        for revision in page:\n",
    "            for match in pattern.finditer(revision.text):\n",
    "                line += match.group(1)  \n",
    "        \n",
    "        if words_re.search(str(line)):\n",
    "            for match in pattern_firstsentence.finditer(revision.text):\n",
    "                firstsentence += match.group(1)\n",
    "                firstsentence.replace(r'\\*', '').replace(r'\\[[', '').replace(r'\\]]', '')\n",
    "            outfile.write(page.title+\"\\n\")\n",
    "            outfile.write(firstsentence+\"\\n\"+\"\\n\")"
   ]
  }
 ],
 "metadata": {
  "kernelspec": {
   "display_name": "Python 3.7.13 ('forschungsseminarenv')",
   "language": "python",
   "name": "python3"
  },
  "language_info": {
   "codemirror_mode": {
    "name": "ipython",
    "version": 3
   },
   "file_extension": ".py",
   "mimetype": "text/x-python",
   "name": "python",
   "nbconvert_exporter": "python",
   "pygments_lexer": "ipython3",
   "version": "3.7.13"
  },
  "orig_nbformat": 4,
  "vscode": {
   "interpreter": {
    "hash": "fe6018fde3cbbb4eddeb8a40ce7dd82a54a8d34f7d7f0c961465b9161df6ac74"
   }
  }
 },
 "nbformat": 4,
 "nbformat_minor": 2
}
