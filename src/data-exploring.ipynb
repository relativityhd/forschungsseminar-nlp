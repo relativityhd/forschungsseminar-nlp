{
 "cells": [
  {
   "cell_type": "markdown",
   "metadata": {},
   "source": [
    "## Dieser Teil des Notebooks befasst sich mit den Aufgabenteilen 1A und 1B "
   ]
  },
  {
   "cell_type": "markdown",
   "metadata": {},
   "source": [
    "Im ersten Schritt sollen hierbei die Daten von einer Wikipedia-Schnittstelle heruntergeladen und extrahiert werden. \n",
    "Die Dump-Dateien, welche alle nötigen Wikipedia-Inhalte umfassen, können über das Ausführen der in der **Readme**-Datei aufgelisteten Befehlen gewählt und geladen werden.\n",
    "Zur Auswahl stehen hier 1) eine Dumpdatei mit einer kleineren Größe von ca. 5GB (im Prozess entstehend) für ein effizientes Arbeiten und 2) die allumfassende Dumpdatei mit einer Größe von ca. 28GB (im Prozess entstehend)"
   ]
  },
  {
   "cell_type": "markdown",
   "metadata": {},
   "source": [
    "Sobald über die README-Datei und die Bash-Skripte u.a. das Aufsetzen der Datenstruktur erfolgt ist, kann eine erste Extraktion des gewählten Dumps stattfinden:"
   ]
  },
  {
   "cell_type": "markdown",
   "metadata": {},
   "source": [
    "### Extraktion des Dumps:"
   ]
  },
  {
   "cell_type": "markdown",
   "metadata": {},
   "source": [
    "Die Bibliothek \"MediaWiki XML Processing\" oder auch \"mwxml\" ermöglicht ein vereinfachtes Streamen XML-Dumps über eine Abstrahierung.\n",
    "Über den mwxml.Dump werden die Wikipediaartikel auf eine iterative Weise über mwxml.Page‘s zugänglich gemacht.\n",
    "Im Folgenden werden über die angegebene Datei (entweder die kleine oder große XML-Datei) ein mwxml-Dump erstellt, welcher eben diese Attribute bereitstellt.\n",
    "Um die Funktionalität und Fehlerfreiheit zu prüfen werden im Folgenden zudem die Info der Seite und der Name der untersuchten Datenbank ausgegeben. Zu erwarten wären hier Hinweise auf die deutsche Wikipediafassung."
   ]
  },
  {
   "cell_type": "code",
   "execution_count": 1,
   "metadata": {},
   "outputs": [
    {
     "name": "stdout",
     "output_type": "stream",
     "text": [
      "Wikipedia dewiki\n"
     ]
    }
   ],
   "source": [
    "# Importieren der Bibliotheken und Module\n",
    "import mwxml # Für Untersuchung der XMLs\n",
    "import re # Für spätere regex-Operationen\n",
    "from tqdm import tqdm # Für die Integration von Fortschrittsbannern, Ladebalken etc.\n",
    "\n",
    "dump = mwxml.Dump.from_file(open(\"../data/dewiki-20220520-pages-articles-multistream1.xml\")) #dewiki-20220620-pages-articles-multistream.xml als Alternative, falls großer Dump genutzt werden soll.\n",
    "print(dump.site_info.name, dump.site_info.dbname) # Ausgabe der Informationen zum Dump"
   ]
  },
  {
   "cell_type": "markdown",
   "metadata": {},
   "source": [
    "Im Folgenden wird vorläufig eine später verwendete Methodik und Funktion zur weiteren Verbesserung der Firmenklassifikation implementiert.\n",
    "Für eine spätetere Ausräumung von Unsicherheiten in deutscher Wiki werden sowohl deutsches NER-Modell auf deutscher Wiki und englisches Modell auf englischer Wiki genutzt. \n",
    "Auch mit deutschem Modell auf rein deutscher Wikipedia möglich."
   ]
  },
  {
   "cell_type": "code",
   "execution_count": 2,
   "metadata": {},
   "outputs": [
    {
     "name": "stdout",
     "output_type": "stream",
     "text": [
      "Collecting en-core-web-sm==3.3.0\n",
      "  Downloading https://github.com/explosion/spacy-models/releases/download/en_core_web_sm-3.3.0/en_core_web_sm-3.3.0-py3-none-any.whl (12.8 MB)\n",
      "\u001b[2K     \u001b[90m━━━━━━━━━━━━━━━━━━━━━━━━━━━━━━━━━━━━━━━━\u001b[0m \u001b[32m12.8/12.8 MB\u001b[0m \u001b[31m4.1 MB/s\u001b[0m eta \u001b[36m0:00:00\u001b[0m00:01\u001b[0m00:01\u001b[0mm\n",
      "\u001b[?25hRequirement already satisfied: spacy<3.4.0,>=3.3.0.dev0 in /Users/amonschneider/opt/anaconda3/envs/forschungsseminarenv/lib/python3.7/site-packages (from en-core-web-sm==3.3.0) (3.3.1)\n",
      "Requirement already satisfied: setuptools in /Users/amonschneider/opt/anaconda3/envs/forschungsseminarenv/lib/python3.7/site-packages (from spacy<3.4.0,>=3.3.0.dev0->en-core-web-sm==3.3.0) (62.3.2)\n",
      "Requirement already satisfied: cymem<2.1.0,>=2.0.2 in /Users/amonschneider/opt/anaconda3/envs/forschungsseminarenv/lib/python3.7/site-packages (from spacy<3.4.0,>=3.3.0.dev0->en-core-web-sm==3.3.0) (2.0.6)\n",
      "Requirement already satisfied: spacy-legacy<3.1.0,>=3.0.9 in /Users/amonschneider/opt/anaconda3/envs/forschungsseminarenv/lib/python3.7/site-packages (from spacy<3.4.0,>=3.3.0.dev0->en-core-web-sm==3.3.0) (3.0.9)\n",
      "Requirement already satisfied: pathy>=0.3.5 in /Users/amonschneider/opt/anaconda3/envs/forschungsseminarenv/lib/python3.7/site-packages (from spacy<3.4.0,>=3.3.0.dev0->en-core-web-sm==3.3.0) (0.6.2)\n",
      "Requirement already satisfied: preshed<3.1.0,>=3.0.2 in /Users/amonschneider/opt/anaconda3/envs/forschungsseminarenv/lib/python3.7/site-packages (from spacy<3.4.0,>=3.3.0.dev0->en-core-web-sm==3.3.0) (3.0.6)\n",
      "Requirement already satisfied: catalogue<2.1.0,>=2.0.6 in /Users/amonschneider/opt/anaconda3/envs/forschungsseminarenv/lib/python3.7/site-packages (from spacy<3.4.0,>=3.3.0.dev0->en-core-web-sm==3.3.0) (2.0.6)\n",
      "Requirement already satisfied: typer<0.5.0,>=0.3.0 in /Users/amonschneider/opt/anaconda3/envs/forschungsseminarenv/lib/python3.7/site-packages (from spacy<3.4.0,>=3.3.0.dev0->en-core-web-sm==3.3.0) (0.4.2)\n",
      "Requirement already satisfied: srsly<3.0.0,>=2.4.3 in /Users/amonschneider/opt/anaconda3/envs/forschungsseminarenv/lib/python3.7/site-packages (from spacy<3.4.0,>=3.3.0.dev0->en-core-web-sm==3.3.0) (2.4.3)\n",
      "Requirement already satisfied: jinja2 in /Users/amonschneider/opt/anaconda3/envs/forschungsseminarenv/lib/python3.7/site-packages (from spacy<3.4.0,>=3.3.0.dev0->en-core-web-sm==3.3.0) (3.1.2)\n",
      "Requirement already satisfied: langcodes<4.0.0,>=3.2.0 in /Users/amonschneider/opt/anaconda3/envs/forschungsseminarenv/lib/python3.7/site-packages (from spacy<3.4.0,>=3.3.0.dev0->en-core-web-sm==3.3.0) (3.3.0)\n",
      "Requirement already satisfied: blis<0.8.0,>=0.4.0 in /Users/amonschneider/opt/anaconda3/envs/forschungsseminarenv/lib/python3.7/site-packages (from spacy<3.4.0,>=3.3.0.dev0->en-core-web-sm==3.3.0) (0.7.8)\n",
      "Requirement already satisfied: murmurhash<1.1.0,>=0.28.0 in /Users/amonschneider/opt/anaconda3/envs/forschungsseminarenv/lib/python3.7/site-packages (from spacy<3.4.0,>=3.3.0.dev0->en-core-web-sm==3.3.0) (1.0.7)\n",
      "Requirement already satisfied: thinc<8.1.0,>=8.0.14 in /Users/amonschneider/opt/anaconda3/envs/forschungsseminarenv/lib/python3.7/site-packages (from spacy<3.4.0,>=3.3.0.dev0->en-core-web-sm==3.3.0) (8.0.17)\n",
      "Requirement already satisfied: pydantic!=1.8,!=1.8.1,<1.9.0,>=1.7.4 in /Users/amonschneider/opt/anaconda3/envs/forschungsseminarenv/lib/python3.7/site-packages (from spacy<3.4.0,>=3.3.0.dev0->en-core-web-sm==3.3.0) (1.8.2)\n",
      "Requirement already satisfied: tqdm<5.0.0,>=4.38.0 in /Users/amonschneider/opt/anaconda3/envs/forschungsseminarenv/lib/python3.7/site-packages (from spacy<3.4.0,>=3.3.0.dev0->en-core-web-sm==3.3.0) (4.64.0)\n",
      "Requirement already satisfied: requests<3.0.0,>=2.13.0 in /Users/amonschneider/opt/anaconda3/envs/forschungsseminarenv/lib/python3.7/site-packages (from spacy<3.4.0,>=3.3.0.dev0->en-core-web-sm==3.3.0) (2.28.1)\n",
      "Requirement already satisfied: packaging>=20.0 in /Users/amonschneider/opt/anaconda3/envs/forschungsseminarenv/lib/python3.7/site-packages (from spacy<3.4.0,>=3.3.0.dev0->en-core-web-sm==3.3.0) (21.3)\n",
      "Requirement already satisfied: spacy-loggers<2.0.0,>=1.0.0 in /Users/amonschneider/opt/anaconda3/envs/forschungsseminarenv/lib/python3.7/site-packages (from spacy<3.4.0,>=3.3.0.dev0->en-core-web-sm==3.3.0) (1.0.2)\n",
      "Requirement already satisfied: numpy>=1.15.0 in /Users/amonschneider/opt/anaconda3/envs/forschungsseminarenv/lib/python3.7/site-packages (from spacy<3.4.0,>=3.3.0.dev0->en-core-web-sm==3.3.0) (1.21.6)\n",
      "Requirement already satisfied: typing-extensions<4.2.0,>=3.7.4 in /Users/amonschneider/opt/anaconda3/envs/forschungsseminarenv/lib/python3.7/site-packages (from spacy<3.4.0,>=3.3.0.dev0->en-core-web-sm==3.3.0) (4.1.1)\n",
      "Requirement already satisfied: wasabi<1.1.0,>=0.9.1 in /Users/amonschneider/opt/anaconda3/envs/forschungsseminarenv/lib/python3.7/site-packages (from spacy<3.4.0,>=3.3.0.dev0->en-core-web-sm==3.3.0) (0.9.1)\n",
      "Requirement already satisfied: zipp>=0.5 in /Users/amonschneider/opt/anaconda3/envs/forschungsseminarenv/lib/python3.7/site-packages (from catalogue<2.1.0,>=2.0.6->spacy<3.4.0,>=3.3.0.dev0->en-core-web-sm==3.3.0) (3.8.0)\n",
      "Requirement already satisfied: pyparsing!=3.0.5,>=2.0.2 in /Users/amonschneider/opt/anaconda3/envs/forschungsseminarenv/lib/python3.7/site-packages (from packaging>=20.0->spacy<3.4.0,>=3.3.0.dev0->en-core-web-sm==3.3.0) (3.0.9)\n",
      "Requirement already satisfied: smart-open<6.0.0,>=5.2.1 in /Users/amonschneider/opt/anaconda3/envs/forschungsseminarenv/lib/python3.7/site-packages (from pathy>=0.3.5->spacy<3.4.0,>=3.3.0.dev0->en-core-web-sm==3.3.0) (5.2.1)\n",
      "Requirement already satisfied: urllib3<1.27,>=1.21.1 in /Users/amonschneider/opt/anaconda3/envs/forschungsseminarenv/lib/python3.7/site-packages (from requests<3.0.0,>=2.13.0->spacy<3.4.0,>=3.3.0.dev0->en-core-web-sm==3.3.0) (1.26.10)\n",
      "Requirement already satisfied: charset-normalizer<3,>=2 in /Users/amonschneider/opt/anaconda3/envs/forschungsseminarenv/lib/python3.7/site-packages (from requests<3.0.0,>=2.13.0->spacy<3.4.0,>=3.3.0.dev0->en-core-web-sm==3.3.0) (2.1.0)\n",
      "Requirement already satisfied: idna<4,>=2.5 in /Users/amonschneider/opt/anaconda3/envs/forschungsseminarenv/lib/python3.7/site-packages (from requests<3.0.0,>=2.13.0->spacy<3.4.0,>=3.3.0.dev0->en-core-web-sm==3.3.0) (3.3)\n",
      "Requirement already satisfied: certifi>=2017.4.17 in /Users/amonschneider/opt/anaconda3/envs/forschungsseminarenv/lib/python3.7/site-packages (from requests<3.0.0,>=2.13.0->spacy<3.4.0,>=3.3.0.dev0->en-core-web-sm==3.3.0) (2022.6.15)\n",
      "Requirement already satisfied: click<9.0.0,>=7.1.1 in /Users/amonschneider/opt/anaconda3/envs/forschungsseminarenv/lib/python3.7/site-packages (from typer<0.5.0,>=0.3.0->spacy<3.4.0,>=3.3.0.dev0->en-core-web-sm==3.3.0) (8.1.3)\n",
      "Requirement already satisfied: MarkupSafe>=2.0 in /Users/amonschneider/opt/anaconda3/envs/forschungsseminarenv/lib/python3.7/site-packages (from jinja2->spacy<3.4.0,>=3.3.0.dev0->en-core-web-sm==3.3.0) (2.1.1)\n",
      "Requirement already satisfied: importlib-metadata in /Users/amonschneider/opt/anaconda3/envs/forschungsseminarenv/lib/python3.7/site-packages (from click<9.0.0,>=7.1.1->typer<0.5.0,>=0.3.0->spacy<3.4.0,>=3.3.0.dev0->en-core-web-sm==3.3.0) (4.11.4)\n",
      "\u001b[38;5;2m✔ Download and installation successful\u001b[0m\n",
      "You can now load the package via spacy.load('en_core_web_sm')\n",
      "Collecting de-core-news-sm==3.3.0\n",
      "  Downloading https://github.com/explosion/spacy-models/releases/download/de_core_news_sm-3.3.0/de_core_news_sm-3.3.0-py3-none-any.whl (14.6 MB)\n",
      "\u001b[2K     \u001b[90m━━━━━━━━━━━━━━━━━━━━━━━━━━━━━━━━━━━━━━━━\u001b[0m \u001b[32m14.6/14.6 MB\u001b[0m \u001b[31m4.0 MB/s\u001b[0m eta \u001b[36m0:00:00\u001b[0m00:01\u001b[0m00:01\u001b[0m\n",
      "\u001b[?25hRequirement already satisfied: spacy<3.4.0,>=3.3.0.dev0 in /Users/amonschneider/opt/anaconda3/envs/forschungsseminarenv/lib/python3.7/site-packages (from de-core-news-sm==3.3.0) (3.3.1)\n",
      "Requirement already satisfied: typing-extensions<4.2.0,>=3.7.4 in /Users/amonschneider/opt/anaconda3/envs/forschungsseminarenv/lib/python3.7/site-packages (from spacy<3.4.0,>=3.3.0.dev0->de-core-news-sm==3.3.0) (4.1.1)\n",
      "Requirement already satisfied: cymem<2.1.0,>=2.0.2 in /Users/amonschneider/opt/anaconda3/envs/forschungsseminarenv/lib/python3.7/site-packages (from spacy<3.4.0,>=3.3.0.dev0->de-core-news-sm==3.3.0) (2.0.6)\n",
      "Requirement already satisfied: jinja2 in /Users/amonschneider/opt/anaconda3/envs/forschungsseminarenv/lib/python3.7/site-packages (from spacy<3.4.0,>=3.3.0.dev0->de-core-news-sm==3.3.0) (3.1.2)\n",
      "Requirement already satisfied: spacy-loggers<2.0.0,>=1.0.0 in /Users/amonschneider/opt/anaconda3/envs/forschungsseminarenv/lib/python3.7/site-packages (from spacy<3.4.0,>=3.3.0.dev0->de-core-news-sm==3.3.0) (1.0.2)\n",
      "Requirement already satisfied: typer<0.5.0,>=0.3.0 in /Users/amonschneider/opt/anaconda3/envs/forschungsseminarenv/lib/python3.7/site-packages (from spacy<3.4.0,>=3.3.0.dev0->de-core-news-sm==3.3.0) (0.4.2)\n",
      "Requirement already satisfied: murmurhash<1.1.0,>=0.28.0 in /Users/amonschneider/opt/anaconda3/envs/forschungsseminarenv/lib/python3.7/site-packages (from spacy<3.4.0,>=3.3.0.dev0->de-core-news-sm==3.3.0) (1.0.7)\n",
      "Requirement already satisfied: packaging>=20.0 in /Users/amonschneider/opt/anaconda3/envs/forschungsseminarenv/lib/python3.7/site-packages (from spacy<3.4.0,>=3.3.0.dev0->de-core-news-sm==3.3.0) (21.3)\n",
      "Requirement already satisfied: langcodes<4.0.0,>=3.2.0 in /Users/amonschneider/opt/anaconda3/envs/forschungsseminarenv/lib/python3.7/site-packages (from spacy<3.4.0,>=3.3.0.dev0->de-core-news-sm==3.3.0) (3.3.0)\n",
      "Requirement already satisfied: blis<0.8.0,>=0.4.0 in /Users/amonschneider/opt/anaconda3/envs/forschungsseminarenv/lib/python3.7/site-packages (from spacy<3.4.0,>=3.3.0.dev0->de-core-news-sm==3.3.0) (0.7.8)\n",
      "Requirement already satisfied: requests<3.0.0,>=2.13.0 in /Users/amonschneider/opt/anaconda3/envs/forschungsseminarenv/lib/python3.7/site-packages (from spacy<3.4.0,>=3.3.0.dev0->de-core-news-sm==3.3.0) (2.28.1)\n",
      "Requirement already satisfied: preshed<3.1.0,>=3.0.2 in /Users/amonschneider/opt/anaconda3/envs/forschungsseminarenv/lib/python3.7/site-packages (from spacy<3.4.0,>=3.3.0.dev0->de-core-news-sm==3.3.0) (3.0.6)\n",
      "Requirement already satisfied: srsly<3.0.0,>=2.4.3 in /Users/amonschneider/opt/anaconda3/envs/forschungsseminarenv/lib/python3.7/site-packages (from spacy<3.4.0,>=3.3.0.dev0->de-core-news-sm==3.3.0) (2.4.3)\n",
      "Requirement already satisfied: spacy-legacy<3.1.0,>=3.0.9 in /Users/amonschneider/opt/anaconda3/envs/forschungsseminarenv/lib/python3.7/site-packages (from spacy<3.4.0,>=3.3.0.dev0->de-core-news-sm==3.3.0) (3.0.9)\n",
      "Requirement already satisfied: setuptools in /Users/amonschneider/opt/anaconda3/envs/forschungsseminarenv/lib/python3.7/site-packages (from spacy<3.4.0,>=3.3.0.dev0->de-core-news-sm==3.3.0) (62.3.2)\n",
      "Requirement already satisfied: pathy>=0.3.5 in /Users/amonschneider/opt/anaconda3/envs/forschungsseminarenv/lib/python3.7/site-packages (from spacy<3.4.0,>=3.3.0.dev0->de-core-news-sm==3.3.0) (0.6.2)\n",
      "Requirement already satisfied: pydantic!=1.8,!=1.8.1,<1.9.0,>=1.7.4 in /Users/amonschneider/opt/anaconda3/envs/forschungsseminarenv/lib/python3.7/site-packages (from spacy<3.4.0,>=3.3.0.dev0->de-core-news-sm==3.3.0) (1.8.2)\n",
      "Requirement already satisfied: thinc<8.1.0,>=8.0.14 in /Users/amonschneider/opt/anaconda3/envs/forschungsseminarenv/lib/python3.7/site-packages (from spacy<3.4.0,>=3.3.0.dev0->de-core-news-sm==3.3.0) (8.0.17)\n",
      "Requirement already satisfied: catalogue<2.1.0,>=2.0.6 in /Users/amonschneider/opt/anaconda3/envs/forschungsseminarenv/lib/python3.7/site-packages (from spacy<3.4.0,>=3.3.0.dev0->de-core-news-sm==3.3.0) (2.0.6)\n",
      "Requirement already satisfied: numpy>=1.15.0 in /Users/amonschneider/opt/anaconda3/envs/forschungsseminarenv/lib/python3.7/site-packages (from spacy<3.4.0,>=3.3.0.dev0->de-core-news-sm==3.3.0) (1.21.6)\n",
      "Requirement already satisfied: wasabi<1.1.0,>=0.9.1 in /Users/amonschneider/opt/anaconda3/envs/forschungsseminarenv/lib/python3.7/site-packages (from spacy<3.4.0,>=3.3.0.dev0->de-core-news-sm==3.3.0) (0.9.1)\n",
      "Requirement already satisfied: tqdm<5.0.0,>=4.38.0 in /Users/amonschneider/opt/anaconda3/envs/forschungsseminarenv/lib/python3.7/site-packages (from spacy<3.4.0,>=3.3.0.dev0->de-core-news-sm==3.3.0) (4.64.0)\n",
      "Requirement already satisfied: zipp>=0.5 in /Users/amonschneider/opt/anaconda3/envs/forschungsseminarenv/lib/python3.7/site-packages (from catalogue<2.1.0,>=2.0.6->spacy<3.4.0,>=3.3.0.dev0->de-core-news-sm==3.3.0) (3.8.0)\n",
      "Requirement already satisfied: pyparsing!=3.0.5,>=2.0.2 in /Users/amonschneider/opt/anaconda3/envs/forschungsseminarenv/lib/python3.7/site-packages (from packaging>=20.0->spacy<3.4.0,>=3.3.0.dev0->de-core-news-sm==3.3.0) (3.0.9)\n",
      "Requirement already satisfied: smart-open<6.0.0,>=5.2.1 in /Users/amonschneider/opt/anaconda3/envs/forschungsseminarenv/lib/python3.7/site-packages (from pathy>=0.3.5->spacy<3.4.0,>=3.3.0.dev0->de-core-news-sm==3.3.0) (5.2.1)\n",
      "Requirement already satisfied: idna<4,>=2.5 in /Users/amonschneider/opt/anaconda3/envs/forschungsseminarenv/lib/python3.7/site-packages (from requests<3.0.0,>=2.13.0->spacy<3.4.0,>=3.3.0.dev0->de-core-news-sm==3.3.0) (3.3)\n",
      "Requirement already satisfied: charset-normalizer<3,>=2 in /Users/amonschneider/opt/anaconda3/envs/forschungsseminarenv/lib/python3.7/site-packages (from requests<3.0.0,>=2.13.0->spacy<3.4.0,>=3.3.0.dev0->de-core-news-sm==3.3.0) (2.1.0)\n",
      "Requirement already satisfied: urllib3<1.27,>=1.21.1 in /Users/amonschneider/opt/anaconda3/envs/forschungsseminarenv/lib/python3.7/site-packages (from requests<3.0.0,>=2.13.0->spacy<3.4.0,>=3.3.0.dev0->de-core-news-sm==3.3.0) (1.26.10)\n",
      "Requirement already satisfied: certifi>=2017.4.17 in /Users/amonschneider/opt/anaconda3/envs/forschungsseminarenv/lib/python3.7/site-packages (from requests<3.0.0,>=2.13.0->spacy<3.4.0,>=3.3.0.dev0->de-core-news-sm==3.3.0) (2022.6.15)\n",
      "Requirement already satisfied: click<9.0.0,>=7.1.1 in /Users/amonschneider/opt/anaconda3/envs/forschungsseminarenv/lib/python3.7/site-packages (from typer<0.5.0,>=0.3.0->spacy<3.4.0,>=3.3.0.dev0->de-core-news-sm==3.3.0) (8.1.3)\n",
      "Requirement already satisfied: MarkupSafe>=2.0 in /Users/amonschneider/opt/anaconda3/envs/forschungsseminarenv/lib/python3.7/site-packages (from jinja2->spacy<3.4.0,>=3.3.0.dev0->de-core-news-sm==3.3.0) (2.1.1)\n",
      "Requirement already satisfied: importlib-metadata in /Users/amonschneider/opt/anaconda3/envs/forschungsseminarenv/lib/python3.7/site-packages (from click<9.0.0,>=7.1.1->typer<0.5.0,>=0.3.0->spacy<3.4.0,>=3.3.0.dev0->de-core-news-sm==3.3.0) (4.11.4)\n",
      "\u001b[38;5;2m✔ Download and installation successful\u001b[0m\n",
      "You can now load the package via spacy.load('de_core_news_sm')\n"
     ]
    }
   ],
   "source": [
    "!python -m spacy download en_core_web_sm # Herunterladen des englischen Spacy-Sprachmodells per Bash-Skript - erfahrungsgemäß bessere Zuverlässigkeit.\n",
    "!python -m spacy download de_core_news_sm # Herunterladen des deutschsprachigen Spacy-Sprachmodells per Bash-Skript"
   ]
  },
  {
   "cell_type": "markdown",
   "metadata": {},
   "source": [
    "Nachdem die nötigen Modelle heruntergeladen wurden, kann nun die Funktion zur Verbesserung der Genauigkeit implementiert werden."
   ]
  },
  {
   "cell_type": "code",
   "execution_count": 3,
   "metadata": {},
   "outputs": [
    {
     "name": "stderr",
     "output_type": "stream",
     "text": [
      "/Users/amonschneider/opt/anaconda3/envs/forschungsseminarenv/lib/python3.7/site-packages/tqdm/auto.py:22: TqdmWarning: IProgress not found. Please update jupyter and ipywidgets. See https://ipywidgets.readthedocs.io/en/stable/user_install.html\n",
      "  from .autonotebook import tqdm as notebook_tqdm\n"
     ]
    }
   ],
   "source": [
    "# Firmenerkennung über NER\n",
    "import spacy # spacy ist eine Bibliothek für fortgeschrittene Natürliche Sprachverarbeitung\n",
    "import wikipediaapi # Vorteil: sowohl für 'de' als auch 'en' nutzbar: die wikipediapi ist eine Implementierung der Wikipedia-Api als eine \"Wikipedia Python API\". So können sehr effizient Zusammenfassungen und Seiten zu gesuchten Titeln angefordert werden.\n",
    "\n",
    "\n",
    "en_nlp = spacy.load(\"en_core_web_sm\") # Laden des englischen Spacy-Modells für NER\n",
    "de_nlp = spacy.load(\"de_cor_news_sm\") # Laden des deutschen Spacy-Modells für NER\n",
    "en_wiki = wikipediaapi.Wikipedia('en') # Laden der englischen wikipediaapi-Version\n",
    "de_wiki = wikipediaapi.Wikipedia('de') # Laden des deutschen wikipediaapi-Version\n",
    "\n",
    "\n",
    "def reduceUncertainty(page_title): # Diese Funktion soll abgerufen werden können, falls bei einer erkannten Entität nicht klar ist, ob es sich um eine Firma handelt. Hierdurch sollen Unsicherheiten reduziert werden.\n",
    "    en_page = en_wiki.page(page_title) # Das Funktionsattribut page_title enthält den gesuchten Firmenname/Wikipediatitel und wird hier in der englischen API gesucht. \n",
    "    de_page = de_wiki.page(page_title) # Das Funktionsattribut page_title enthält den gesuchten Firmenname/Wikipediatitel und wird hier über die deutsche API gesucht. \n",
    "    org_list = [] # Diese Liste wird leer erklärt, um später alle erwähnten Organisationen in dem Betrefflichen Firmenartikel zu erkennen.\n",
    "\n",
    "    if not en_page.exists(): # Englische Wikipedia-Seite existiert nicht\n",
    "        if not de_page.exists(): # Deutsche  Wikipedia-Seite existiert auch nicht\n",
    "            print(\"01 - \", page_title) \n",
    "            return True # gibt True(\"company exists\") zurück, wenn die Seite nicht gefunden werden kann. So werden nur Seiten entfernt über die wir Zusatzwissen erlangen konnten und am wenigsten drastisch eingegriffen. Je nach Business Case kann dies anders Implementiert werden.\n",
    "        else: # Deutsche Seite existiert aber Englische Seite existiert nicht - in diesem Fall muss idealerweise ein deutsches NER-Modell verwendet werden\n",
    "            doc = de_nlp(de_page.summary) # Die Zusammenfassung sollte in den meisten Fällen für die Urteilsfällung ausreichen\n",
    "            for ent in doc.ents: # Alle erkannten Entitäten werden hier gesammelt\n",
    "                if (ent.label_ == 'ORG') and (page_title in ent.text): # ... Und anschließend gefiltert: Zunächst sollen nur erkannte Organisationen behalten werden, welche zudem in ihrem Eigennamen den Titel der untersuchten Seite als String enthalten. Zukünftig könnten hier erweiterte Regex-Operationen verwendet werden.\n",
    "                    org_list.append(ent) # Nur diese, den Kriterien unterliegende Entitäten, werden der Liste von erkannten Organisationen hinzugefügt.\n",
    "            if(len(org_list)>0): \n",
    "                print(\"11 - \", page_title)\n",
    "                return True\n",
    "            else: \n",
    "                print(\"10 - \", page_title)\n",
    "                return False\n",
    "\n",
    "    else: # Englische Seite existiert und wird aufgrund Informationsgehalt sowie zuverlässigkeit des englischen Sprachmodells bevorzugt.\n",
    "        doc = en_nlp(en_page.summary) # hier findet das selbige Vorgehen wie oben statt, nur mit einem englischen NER-Modell, da dieses idealerweise für die englischen Wikipediaseiten verwendet werden sollte.\n",
    "        for ent in doc.ents: \n",
    "          if (ent.label_ == 'ORG') and (page_title in ent.text):\n",
    "            org_list.append(ent)\n",
    "        if(len(org_list)>0):\n",
    "            print(\"11 - \", page_title)\n",
    "            return True\n",
    "        else: \n",
    "            print(\"10 - \", page_title)\n",
    "            return False"
   ]
  },
  {
   "cell_type": "markdown",
   "metadata": {},
   "source": [
    "Das Obiges Skript durchläuft also den folgenden logischen Prozess bzw. Algorithums:\n",
    "\n",
    "**existiert Artikel im Englischen Wiki?**\n",
    "- **JA:** versuche Organisationen mit englischem Modell zu erkennen\n",
    "- **NEIN:** existiert Artikel im Deutschen Wiki? \n",
    "    - **JA:** versuche Organisationen mit deutschem Modell zu erkennen\n",
    "    - **NEIN:** aus Toleranz als Firma oder nicht Firma zählen."
   ]
  },
  {
   "cell_type": "markdown",
   "metadata": {},
   "source": [
    "Im Folgenden wird diese Methode kurz getestet, um Sie später in der Sammlung von Firmennamen anwenden zu können:"
   ]
  },
  {
   "cell_type": "code",
   "execution_count": 2,
   "metadata": {},
   "outputs": [
    {
     "ename": "NameError",
     "evalue": "name 'en_wiki' is not defined",
     "output_type": "error",
     "traceback": [
      "\u001b[0;31m---------------------------------------------------------------------------\u001b[0m",
      "\u001b[0;31mNameError\u001b[0m                                 Traceback (most recent call last)",
      "\u001b[0;32m/var/folders/8v/4pby7sdn5pb1yxrgdztts9p00000gn/T/ipykernel_1328/306655887.py\u001b[0m in \u001b[0;36m<module>\u001b[0;34m\u001b[0m\n\u001b[1;32m      1\u001b[0m \u001b[0;31m# Tests:\u001b[0m\u001b[0;34m\u001b[0m\u001b[0;34m\u001b[0m\u001b[0;34m\u001b[0m\u001b[0m\n\u001b[1;32m      2\u001b[0m \u001b[0;34m\u001b[0m\u001b[0m\n\u001b[0;32m----> 3\u001b[0;31m \u001b[0mpage\u001b[0m \u001b[0;34m=\u001b[0m \u001b[0men_wiki\u001b[0m\u001b[0;34m.\u001b[0m\u001b[0mpage\u001b[0m\u001b[0;34m(\u001b[0m\u001b[0;34m\"Aldi\"\u001b[0m\u001b[0;34m)\u001b[0m \u001b[0;31m# Benennung der gesuchten Wikipediaseite als \"Aldi\"\u001b[0m\u001b[0;34m\u001b[0m\u001b[0;34m\u001b[0m\u001b[0m\n\u001b[0m\u001b[1;32m      4\u001b[0m \u001b[0;34m\u001b[0m\u001b[0m\n\u001b[1;32m      5\u001b[0m \u001b[0mprint\u001b[0m\u001b[0;34m(\u001b[0m\u001b[0mpage\u001b[0m\u001b[0;34m.\u001b[0m\u001b[0mexists\u001b[0m\u001b[0;34m(\u001b[0m\u001b[0;34m)\u001b[0m\u001b[0;34m)\u001b[0m \u001b[0;31m# Überprüfung ob Seite existiert\u001b[0m\u001b[0;34m\u001b[0m\u001b[0;34m\u001b[0m\u001b[0m\n",
      "\u001b[0;31mNameError\u001b[0m: name 'en_wiki' is not defined"
     ]
    }
   ],
   "source": [
    "# Tests:\n",
    "\n",
    "page = en_wiki.page(\"Aldi\") # Benennung der gesuchten Wikipediaseite als \"Aldi\"\n",
    "\n",
    "print(page.exists()) # Überprüfung ob Seite existiert\n",
    "\n",
    "print(\"Page - Summary: %s\" % page.summary[0:60]) # Ausgabe eines Zusammenfassungteils\n",
    "\n",
    "doc = en_nlp(page.summary) # Laden der Seitenzusammenfassung in englisches NLP-Modell\n",
    "\n",
    "for ent in doc.ents: # Iterieren über erkannte Entitäten\n",
    "    print(ent.text, ent.label_) # Ausgabe der Entitätenart und des Titels\n",
    "\n",
    "# Nun kann sich ein Bild gemacht werden, ob die Zusammenfassung Entitäten liefert, die darauf hindeuten, dass es sich bei \"Aldi\" um eine Firma handelt."
   ]
  },
  {
   "cell_type": "markdown",
   "metadata": {},
   "source": [
    "### Sammeln der Firmennamen aus Dump:\n",
    "\n",
    "Nun können mithilfe der obigen Funktionen und mithilfe von im Folgenden erklärten regex-Mustern mit erhöhter Zuverlässigkeit Firmen aus dem Dump extrahiert werden.\n",
    "Diese werden anschließend in einer Textdate names \"title-categories-map.txt\" abgelegt."
   ]
  },
  {
   "cell_type": "code",
   "execution_count": 4,
   "metadata": {},
   "outputs": [
    {
     "name": "stderr",
     "output_type": "stream",
     "text": [
      "38it [00:00, 143.14it/s]"
     ]
    },
    {
     "name": "stdout",
     "output_type": "stream",
     "text": [
      "10 -  Liste von Unternehmen mit Namensherkunftserklärungen\n"
     ]
    },
    {
     "name": "stderr",
     "output_type": "stream",
     "text": [
      "178it [00:06, 39.92it/s]"
     ]
    },
    {
     "name": "stdout",
     "output_type": "stream",
     "text": [
      "11 -  Aldi\n"
     ]
    },
    {
     "name": "stderr",
     "output_type": "stream",
     "text": [
      "192it [00:08, 15.47it/s]"
     ]
    },
    {
     "name": "stdout",
     "output_type": "stream",
     "text": [
      "11 -  Aldi\n",
      "Aldi True\n"
     ]
    },
    {
     "name": "stderr",
     "output_type": "stream",
     "text": [
      "762it [00:23, 15.59it/s]"
     ]
    },
    {
     "name": "stdout",
     "output_type": "stream",
     "text": [
      "10 -  Discounter\n"
     ]
    },
    {
     "name": "stderr",
     "output_type": "stream",
     "text": [
      "1501it [00:41, 27.68it/s]"
     ]
    },
    {
     "name": "stdout",
     "output_type": "stream",
     "text": [
      "10 -  Handwerk\n"
     ]
    },
    {
     "name": "stderr",
     "output_type": "stream",
     "text": [
      "1725it [00:48, 21.96it/s]"
     ]
    },
    {
     "name": "stdout",
     "output_type": "stream",
     "text": [
      "10 -  Kooperation\n"
     ]
    },
    {
     "name": "stderr",
     "output_type": "stream",
     "text": [
      "2374it [01:07, 28.85it/s]"
     ]
    },
    {
     "name": "stdout",
     "output_type": "stream",
     "text": [
      "11 -  Nichtregierungsorganisation\n"
     ]
    },
    {
     "name": "stderr",
     "output_type": "stream",
     "text": [
      "2397it [01:10, 11.94it/s]"
     ]
    },
    {
     "name": "stdout",
     "output_type": "stream",
     "text": [
      "11 -  Nichtregierungsorganisation\n",
      "Nichtregierungsorganisation True\n"
     ]
    },
    {
     "name": "stderr",
     "output_type": "stream",
     "text": [
      "2487it [01:13, 12.04it/s]"
     ]
    },
    {
     "name": "stdout",
     "output_type": "stream",
     "text": [
      "10 -  Ole von Beust\n"
     ]
    },
    {
     "name": "stderr",
     "output_type": "stream",
     "text": [
      "2736it [01:19, 15.45it/s]"
     ]
    },
    {
     "name": "stdout",
     "output_type": "stream",
     "text": [
      "10 -  Partnerschaft (Rechtsform)\n"
     ]
    },
    {
     "name": "stderr",
     "output_type": "stream",
     "text": [
      "3826it [01:44, 17.72it/s]"
     ]
    },
    {
     "name": "stdout",
     "output_type": "stream",
     "text": [
      "10 -  Zentralbank\n"
     ]
    },
    {
     "name": "stderr",
     "output_type": "stream",
     "text": [
      "6851it [02:27, 36.38it/s] "
     ]
    },
    {
     "name": "stdout",
     "output_type": "stream",
     "text": [
      "10 -  Öffentlich-private Partnerschaft\n"
     ]
    },
    {
     "name": "stderr",
     "output_type": "stream",
     "text": [
      "7196it [02:34, 23.74it/s]"
     ]
    },
    {
     "name": "stdout",
     "output_type": "stream",
     "text": [
      "10 -  Jürgen Möllemann\n"
     ]
    },
    {
     "name": "stderr",
     "output_type": "stream",
     "text": [
      "7315it [02:37, 29.77it/s]"
     ]
    },
    {
     "name": "stdout",
     "output_type": "stream",
     "text": [
      "10 -  Konzern\n"
     ]
    },
    {
     "name": "stderr",
     "output_type": "stream",
     "text": [
      "10621it [03:36, 65.94it/s] "
     ]
    },
    {
     "name": "stdout",
     "output_type": "stream",
     "text": [
      "11 -  Holding\n"
     ]
    },
    {
     "name": "stderr",
     "output_type": "stream",
     "text": [
      "10628it [03:37, 19.20it/s]"
     ]
    },
    {
     "name": "stdout",
     "output_type": "stream",
     "text": [
      "11 -  Holding\n",
      "Holding True\n"
     ]
    },
    {
     "name": "stderr",
     "output_type": "stream",
     "text": [
      "11663it [03:56, 48.92it/s]"
     ]
    },
    {
     "name": "stdout",
     "output_type": "stream",
     "text": [
      "11 -  Ich-AG\n"
     ]
    },
    {
     "name": "stderr",
     "output_type": "stream",
     "text": [
      "11674it [03:57, 14.02it/s]"
     ]
    },
    {
     "name": "stdout",
     "output_type": "stream",
     "text": [
      "11 -  Ich-AG\n",
      "Ich-AG True\n"
     ]
    },
    {
     "name": "stderr",
     "output_type": "stream",
     "text": [
      "12179it [04:06, 101.37it/s]"
     ]
    },
    {
     "name": "stdout",
     "output_type": "stream",
     "text": [
      "10 -  Genossenschaft\n"
     ]
    },
    {
     "name": "stderr",
     "output_type": "stream",
     "text": [
      "12954it [04:19, 34.26it/s] "
     ]
    },
    {
     "name": "stdout",
     "output_type": "stream",
     "text": [
      "10 -  Fusion (Wirtschaft)\n"
     ]
    },
    {
     "name": "stderr",
     "output_type": "stream",
     "text": [
      "14768it [04:42, 61.98it/s] "
     ]
    },
    {
     "name": "stdout",
     "output_type": "stream",
     "text": [
      "10 -  Leasing\n"
     ]
    },
    {
     "name": "stderr",
     "output_type": "stream",
     "text": [
      "15169it [04:46, 56.45it/s] "
     ]
    },
    {
     "name": "stdout",
     "output_type": "stream",
     "text": [
      "10 -  Sweatshop\n"
     ]
    },
    {
     "name": "stderr",
     "output_type": "stream",
     "text": [
      "19979it [05:36, 116.42it/s]"
     ]
    },
    {
     "name": "stdout",
     "output_type": "stream",
     "text": [
      "11 -  Solidarische Landwirtschaft\n"
     ]
    },
    {
     "name": "stderr",
     "output_type": "stream",
     "text": [
      "20010it [05:38, 37.41it/s] "
     ]
    },
    {
     "name": "stdout",
     "output_type": "stream",
     "text": [
      "11 -  Solidarische Landwirtschaft\n",
      "Solidarische Landwirtschaft True\n"
     ]
    },
    {
     "name": "stderr",
     "output_type": "stream",
     "text": [
      "20746it [05:45, 128.37it/s]"
     ]
    },
    {
     "name": "stdout",
     "output_type": "stream",
     "text": [
      "11 -  Compiere\n"
     ]
    },
    {
     "name": "stderr",
     "output_type": "stream",
     "text": [
      "20772it [05:46, 42.83it/s] "
     ]
    },
    {
     "name": "stdout",
     "output_type": "stream",
     "text": [
      "11 -  Compiere\n",
      "Compiere True\n"
     ]
    },
    {
     "name": "stderr",
     "output_type": "stream",
     "text": [
      "21044it [05:48, 64.08it/s] "
     ]
    },
    {
     "name": "stdout",
     "output_type": "stream",
     "text": [
      "10 -  Supermarkt\n"
     ]
    },
    {
     "name": "stderr",
     "output_type": "stream",
     "text": [
      "21319it [05:51, 94.92it/s] "
     ]
    },
    {
     "name": "stdout",
     "output_type": "stream",
     "text": [
      "11 -  Fleischerei\n"
     ]
    },
    {
     "name": "stderr",
     "output_type": "stream",
     "text": [
      "21330it [05:53, 19.51it/s]"
     ]
    },
    {
     "name": "stdout",
     "output_type": "stream",
     "text": [
      "11 -  Fleischerei\n",
      "Fleischerei True\n"
     ]
    },
    {
     "name": "stderr",
     "output_type": "stream",
     "text": [
      "22691it [06:06, 69.72it/s] "
     ]
    },
    {
     "name": "stdout",
     "output_type": "stream",
     "text": [
      "10 -  Apotheke\n"
     ]
    },
    {
     "name": "stderr",
     "output_type": "stream",
     "text": [
      "22811it [06:08, 57.91it/s] "
     ]
    },
    {
     "name": "stdout",
     "output_type": "stream",
     "text": [
      "10 -  Unternehmensberater\n"
     ]
    },
    {
     "name": "stderr",
     "output_type": "stream",
     "text": [
      "25575it [06:36, 50.97it/s] "
     ]
    },
    {
     "name": "stdout",
     "output_type": "stream",
     "text": [
      "10 -  Due-Diligence-Prüfung\n"
     ]
    },
    {
     "name": "stderr",
     "output_type": "stream",
     "text": [
      "25971it [06:39, 109.54it/s]"
     ]
    },
    {
     "name": "stdout",
     "output_type": "stream",
     "text": [
      "10 -  Fürstlich Fürstenbergische Brauerei\n"
     ]
    },
    {
     "name": "stderr",
     "output_type": "stream",
     "text": [
      "26810it [06:46, 82.26it/s] "
     ]
    },
    {
     "name": "stdout",
     "output_type": "stream",
     "text": [
      "10 -  Unternehmensstandort\n"
     ]
    },
    {
     "name": "stderr",
     "output_type": "stream",
     "text": [
      "27961it [06:55, 116.27it/s]"
     ]
    },
    {
     "name": "stdout",
     "output_type": "stream",
     "text": [
      "11 -  Handelsvertreter\n"
     ]
    },
    {
     "name": "stderr",
     "output_type": "stream",
     "text": [
      "27975it [06:57, 29.03it/s] "
     ]
    },
    {
     "name": "stdout",
     "output_type": "stream",
     "text": [
      "11 -  Handelsvertreter\n",
      "Handelsvertreter True\n"
     ]
    },
    {
     "name": "stderr",
     "output_type": "stream",
     "text": [
      "27997it [06:58, 27.40it/s]"
     ]
    },
    {
     "name": "stdout",
     "output_type": "stream",
     "text": [
      "10 -  Makler\n"
     ]
    },
    {
     "name": "stderr",
     "output_type": "stream",
     "text": [
      "28098it [06:59, 84.17it/s]"
     ]
    },
    {
     "name": "stdout",
     "output_type": "stream",
     "text": [
      "11 -  Unternehmensziel\n"
     ]
    },
    {
     "name": "stderr",
     "output_type": "stream",
     "text": [
      "28135it [07:00, 37.63it/s]"
     ]
    },
    {
     "name": "stdout",
     "output_type": "stream",
     "text": [
      "11 -  Unternehmensziel\n",
      "Unternehmensziel True\n"
     ]
    },
    {
     "name": "stderr",
     "output_type": "stream",
     "text": [
      "28511it [07:04, 108.04it/s]"
     ]
    },
    {
     "name": "stdout",
     "output_type": "stream",
     "text": [
      "11 -  Ferienwohnung\n"
     ]
    },
    {
     "name": "stderr",
     "output_type": "stream",
     "text": [
      "28524it [07:05, 28.61it/s] "
     ]
    },
    {
     "name": "stdout",
     "output_type": "stream",
     "text": [
      "11 -  Ferienwohnung\n",
      "Ferienwohnung True\n"
     ]
    },
    {
     "name": "stderr",
     "output_type": "stream",
     "text": [
      "29251it [07:13, 76.82it/s] "
     ]
    },
    {
     "name": "stdout",
     "output_type": "stream",
     "text": [
      "10 -  Mittelstand\n",
      "11 -  Familien-AG\n"
     ]
    },
    {
     "name": "stderr",
     "output_type": "stream",
     "text": [
      "29300it [07:14, 44.13it/s]"
     ]
    },
    {
     "name": "stdout",
     "output_type": "stream",
     "text": [
      "11 -  Familien-AG\n",
      "Familien-AG True\n"
     ]
    },
    {
     "name": "stderr",
     "output_type": "stream",
     "text": [
      "30832it [07:29, 35.03it/s] "
     ]
    },
    {
     "name": "stdout",
     "output_type": "stream",
     "text": [
      "10 -  Offener Investmentfonds\n"
     ]
    },
    {
     "name": "stderr",
     "output_type": "stream",
     "text": [
      "32787it [07:47, 88.48it/s] "
     ]
    },
    {
     "name": "stdout",
     "output_type": "stream",
     "text": [
      "10 -  Gewerbe\n"
     ]
    },
    {
     "name": "stderr",
     "output_type": "stream",
     "text": [
      "33432it [07:53, 52.50it/s] "
     ]
    },
    {
     "name": "stdout",
     "output_type": "stream",
     "text": [
      "10 -  Vereinigung beratender Betriebs- und Volkswirte\n"
     ]
    },
    {
     "name": "stderr",
     "output_type": "stream",
     "text": [
      "35568it [08:12, 174.44it/s]"
     ]
    },
    {
     "name": "stdout",
     "output_type": "stream",
     "text": [
      "11 -  Antiquariat\n"
     ]
    },
    {
     "name": "stderr",
     "output_type": "stream",
     "text": [
      "35587it [08:13, 33.57it/s] "
     ]
    },
    {
     "name": "stdout",
     "output_type": "stream",
     "text": [
      "11 -  Antiquariat\n",
      "Antiquariat True\n"
     ]
    },
    {
     "name": "stderr",
     "output_type": "stream",
     "text": [
      "37211it [08:21, 158.74it/s]"
     ]
    },
    {
     "name": "stdout",
     "output_type": "stream",
     "text": [
      "11 -  Finanzdienstleistung\n"
     ]
    },
    {
     "name": "stderr",
     "output_type": "stream",
     "text": [
      "37231it [08:23, 38.99it/s] "
     ]
    },
    {
     "name": "stdout",
     "output_type": "stream",
     "text": [
      "11 -  Finanzdienstleistung\n",
      "Finanzdienstleistung True\n"
     ]
    },
    {
     "name": "stderr",
     "output_type": "stream",
     "text": [
      "38990it [08:29, 133.26it/s] "
     ]
    },
    {
     "name": "stdout",
     "output_type": "stream",
     "text": [
      "10 -  Magnat\n"
     ]
    },
    {
     "name": "stderr",
     "output_type": "stream",
     "text": [
      "41184it [08:41, 206.14it/s] "
     ]
    },
    {
     "name": "stdout",
     "output_type": "stream",
     "text": [
      "10 -  Volker Hauff\n"
     ]
    },
    {
     "name": "stderr",
     "output_type": "stream",
     "text": [
      "43175it [09:00, 36.62it/s] "
     ]
    },
    {
     "name": "stdout",
     "output_type": "stream",
     "text": [
      "10 -  Kommunales Unternehmen\n"
     ]
    },
    {
     "name": "stderr",
     "output_type": "stream",
     "text": [
      "44721it [09:13, 73.54it/s] "
     ]
    },
    {
     "name": "stdout",
     "output_type": "stream",
     "text": [
      "10 -  Asfa-Wossen Asserate\n"
     ]
    },
    {
     "name": "stderr",
     "output_type": "stream",
     "text": [
      "46603it [09:27, 77.45it/s] "
     ]
    },
    {
     "name": "stdout",
     "output_type": "stream",
     "text": [
      "10 -  Florian Gerster\n"
     ]
    },
    {
     "name": "stderr",
     "output_type": "stream",
     "text": [
      "46890it [09:30, 83.56it/s] "
     ]
    },
    {
     "name": "stdout",
     "output_type": "stream",
     "text": [
      "10 -  Marktkapitalisierung\n"
     ]
    },
    {
     "name": "stderr",
     "output_type": "stream",
     "text": [
      "48345it [09:41, 70.69it/s] "
     ]
    },
    {
     "name": "stdout",
     "output_type": "stream",
     "text": [
      "10 -  Bundesverband Deutscher Unternehmensberater\n"
     ]
    },
    {
     "name": "stderr",
     "output_type": "stream",
     "text": [
      "48874it [09:46, 20.88it/s] "
     ]
    },
    {
     "name": "stdout",
     "output_type": "stream",
     "text": [
      "10 -  Einkaufszentrum\n"
     ]
    },
    {
     "name": "stderr",
     "output_type": "stream",
     "text": [
      "49851it [09:52, 75.39it/s] "
     ]
    },
    {
     "name": "stdout",
     "output_type": "stream",
     "text": [
      "10 -  Tabaktrafik\n"
     ]
    },
    {
     "name": "stderr",
     "output_type": "stream",
     "text": [
      "50050it [09:55, 48.47it/s] "
     ]
    },
    {
     "name": "stdout",
     "output_type": "stream",
     "text": [
      "10 -  Jugendherberge\n"
     ]
    },
    {
     "name": "stderr",
     "output_type": "stream",
     "text": [
      "52504it [10:15, 32.96it/s] "
     ]
    },
    {
     "name": "stdout",
     "output_type": "stream",
     "text": [
      "10 -  Albrecht Müller (Publizist)\n"
     ]
    },
    {
     "name": "stderr",
     "output_type": "stream",
     "text": [
      "53892it [10:27, 63.25it/s] "
     ]
    },
    {
     "name": "stdout",
     "output_type": "stream",
     "text": [
      "10 -  Joint Venture\n"
     ]
    },
    {
     "name": "stderr",
     "output_type": "stream",
     "text": [
      "54698it [10:35, 61.79it/s] "
     ]
    },
    {
     "name": "stdout",
     "output_type": "stream",
     "text": [
      "10 -  Unternehmenswert\n"
     ]
    },
    {
     "name": "stderr",
     "output_type": "stream",
     "text": [
      "57796it [10:59, 76.35it/s] "
     ]
    },
    {
     "name": "stdout",
     "output_type": "stream",
     "text": [
      "10 -  Freibank\n"
     ]
    },
    {
     "name": "stderr",
     "output_type": "stream",
     "text": [
      "61827it [11:28, 188.23it/s]"
     ]
    },
    {
     "name": "stdout",
     "output_type": "stream",
     "text": [
      "11 -  Outlet\n"
     ]
    },
    {
     "name": "stderr",
     "output_type": "stream",
     "text": [
      "61872it [11:29, 80.25it/s] "
     ]
    },
    {
     "name": "stdout",
     "output_type": "stream",
     "text": [
      "11 -  Outlet\n",
      "Outlet True\n"
     ]
    },
    {
     "name": "stderr",
     "output_type": "stream",
     "text": [
      "62533it [11:33, 193.27it/s]"
     ]
    },
    {
     "name": "stdout",
     "output_type": "stream",
     "text": [
      "11 -  Immobilienfonds\n"
     ]
    },
    {
     "name": "stderr",
     "output_type": "stream",
     "text": [
      "62591it [11:35, 67.79it/s] "
     ]
    },
    {
     "name": "stdout",
     "output_type": "stream",
     "text": [
      "11 -  Immobilienfonds\n",
      "Immobilienfonds True\n"
     ]
    },
    {
     "name": "stderr",
     "output_type": "stream",
     "text": [
      "62702it [11:36, 61.99it/s]"
     ]
    },
    {
     "name": "stdout",
     "output_type": "stream",
     "text": [
      "10 -  Unternehmensberatung\n"
     ]
    },
    {
     "name": "stderr",
     "output_type": "stream",
     "text": [
      "65587it [11:57, 49.36it/s] "
     ]
    },
    {
     "name": "stdout",
     "output_type": "stream",
     "text": [
      "10 -  Wissensbasierte Unternehmenssicht\n"
     ]
    },
    {
     "name": "stderr",
     "output_type": "stream",
     "text": [
      "65986it [12:01, 31.85it/s] "
     ]
    },
    {
     "name": "stdout",
     "output_type": "stream",
     "text": [
      "10 -  Non-Profit-Organisation\n"
     ]
    },
    {
     "name": "stderr",
     "output_type": "stream",
     "text": [
      "66141it [12:04, 35.01it/s]"
     ]
    },
    {
     "name": "stdout",
     "output_type": "stream",
     "text": [
      "10 -  Baumarkt\n"
     ]
    },
    {
     "name": "stderr",
     "output_type": "stream",
     "text": [
      "66782it [12:09, 60.41it/s] "
     ]
    },
    {
     "name": "stdout",
     "output_type": "stream",
     "text": [
      "10 -  Baumschule\n"
     ]
    },
    {
     "name": "stderr",
     "output_type": "stream",
     "text": [
      "67246it [12:12, 125.74it/s]"
     ]
    },
    {
     "name": "stdout",
     "output_type": "stream",
     "text": [
      "10 -  Kaufhaus\n",
      "10 -  Warenhaus\n"
     ]
    },
    {
     "name": "stderr",
     "output_type": "stream",
     "text": [
      "67485it [12:16, 41.72it/s] "
     ]
    },
    {
     "name": "stdout",
     "output_type": "stream",
     "text": [
      "10 -  Großhandel\n"
     ]
    },
    {
     "name": "stderr",
     "output_type": "stream",
     "text": [
      "69390it [12:33, 141.78it/s]"
     ]
    },
    {
     "name": "stdout",
     "output_type": "stream",
     "text": [
      "11 -  Unternehmensziele\n"
     ]
    },
    {
     "name": "stderr",
     "output_type": "stream",
     "text": [
      "69429it [12:35, 44.71it/s] "
     ]
    },
    {
     "name": "stdout",
     "output_type": "stream",
     "text": [
      "11 -  Unternehmensziele\n",
      "Unternehmensziele True\n"
     ]
    },
    {
     "name": "stderr",
     "output_type": "stream",
     "text": [
      "70913it [12:46, 64.62it/s] "
     ]
    },
    {
     "name": "stdout",
     "output_type": "stream",
     "text": [
      "10 -  Handelsgewerbe\n"
     ]
    },
    {
     "name": "stderr",
     "output_type": "stream",
     "text": [
      "72341it [13:00, 42.25it/s] "
     ]
    },
    {
     "name": "stdout",
     "output_type": "stream",
     "text": [
      "10 -  Reederei\n"
     ]
    },
    {
     "name": "stderr",
     "output_type": "stream",
     "text": [
      "73522it [13:13, 44.49it/s] "
     ]
    },
    {
     "name": "stdout",
     "output_type": "stream",
     "text": [
      "10 -  Finanzunternehmen\n"
     ]
    },
    {
     "name": "stderr",
     "output_type": "stream",
     "text": [
      "74148it [13:19, 174.63it/s]"
     ]
    },
    {
     "name": "stdout",
     "output_type": "stream",
     "text": [
      "10 -  Konsortium\n",
      "11 -  Landwirtschaftliche Produktionsgenossenschaft\n"
     ]
    },
    {
     "name": "stderr",
     "output_type": "stream",
     "text": [
      "74196it [13:22, 34.88it/s] "
     ]
    },
    {
     "name": "stdout",
     "output_type": "stream",
     "text": [
      "11 -  Landwirtschaftliche Produktionsgenossenschaft\n",
      "Landwirtschaftliche Produktionsgenossenschaft True\n"
     ]
    },
    {
     "name": "stderr",
     "output_type": "stream",
     "text": [
      "76045it [13:38, 51.63it/s] "
     ]
    },
    {
     "name": "stdout",
     "output_type": "stream",
     "text": [
      "10 -  Bauernhof\n"
     ]
    },
    {
     "name": "stderr",
     "output_type": "stream",
     "text": [
      "77896it [13:54, 57.88it/s] "
     ]
    },
    {
     "name": "stdout",
     "output_type": "stream",
     "text": [
      "10 -  Discounted Cash-Flow\n"
     ]
    },
    {
     "name": "stderr",
     "output_type": "stream",
     "text": [
      "78659it [13:59, 154.22it/s]"
     ]
    },
    {
     "name": "stdout",
     "output_type": "stream",
     "text": [
      "11 -  Sowchos\n"
     ]
    },
    {
     "name": "stderr",
     "output_type": "stream",
     "text": [
      "78676it [14:00, 33.02it/s] "
     ]
    },
    {
     "name": "stdout",
     "output_type": "stream",
     "text": [
      "11 -  Sowchos\n",
      "Sowchos True\n"
     ]
    },
    {
     "name": "stderr",
     "output_type": "stream",
     "text": [
      "78880it [14:02, 99.39it/s] "
     ]
    },
    {
     "name": "stdout",
     "output_type": "stream",
     "text": [
      "11 -  Mergers & Acquisitions\n"
     ]
    },
    {
     "name": "stderr",
     "output_type": "stream",
     "text": [
      "78903it [14:03, 43.46it/s]"
     ]
    },
    {
     "name": "stdout",
     "output_type": "stream",
     "text": [
      "11 -  Mergers & Acquisitions\n",
      "Mergers & Acquisitions True\n"
     ]
    },
    {
     "name": "stderr",
     "output_type": "stream",
     "text": [
      "79244it [14:07, 45.07it/s] "
     ]
    },
    {
     "name": "stdout",
     "output_type": "stream",
     "text": [
      "10 -  Kolchos\n"
     ]
    },
    {
     "name": "stderr",
     "output_type": "stream",
     "text": [
      "79363it [14:08, 60.50it/s] "
     ]
    },
    {
     "name": "stdout",
     "output_type": "stream",
     "text": [
      "10 -  Unternehmensverbindung\n"
     ]
    },
    {
     "name": "stderr",
     "output_type": "stream",
     "text": [
      "79432it [14:09, 67.92it/s]"
     ]
    },
    {
     "name": "stdout",
     "output_type": "stream",
     "text": [
      "10 -  Klaus Zumwinkel\n"
     ]
    },
    {
     "name": "stderr",
     "output_type": "stream",
     "text": [
      "79501it [14:10, 97.43it/s] "
     ]
    },
    {
     "name": "stdout",
     "output_type": "stream",
     "text": [
      "11 -  Konsumgenossenschaft\n"
     ]
    },
    {
     "name": "stderr",
     "output_type": "stream",
     "text": [
      "79527it [14:12, 27.66it/s]"
     ]
    },
    {
     "name": "stdout",
     "output_type": "stream",
     "text": [
      "11 -  Konsumgenossenschaft\n",
      "Konsumgenossenschaft True\n"
     ]
    },
    {
     "name": "stderr",
     "output_type": "stream",
     "text": [
      "79930it [14:17, 39.02it/s] "
     ]
    },
    {
     "name": "stdout",
     "output_type": "stream",
     "text": [
      "10 -  Zusammenschlusskontrolle\n"
     ]
    },
    {
     "name": "stderr",
     "output_type": "stream",
     "text": [
      "80145it [14:19, 66.05it/s] "
     ]
    },
    {
     "name": "stdout",
     "output_type": "stream",
     "text": [
      "10 -  Internetagentur\n"
     ]
    },
    {
     "name": "stderr",
     "output_type": "stream",
     "text": [
      "80666it [14:24, 62.81it/s] "
     ]
    },
    {
     "name": "stdout",
     "output_type": "stream",
     "text": [
      "10 -  Charter\n"
     ]
    },
    {
     "name": "stderr",
     "output_type": "stream",
     "text": [
      "81656it [14:31, 67.62it/s] "
     ]
    },
    {
     "name": "stdout",
     "output_type": "stream",
     "text": [
      "10 -  Michael Groß\n"
     ]
    },
    {
     "name": "stderr",
     "output_type": "stream",
     "text": [
      "81752it [14:32, 152.00it/s]"
     ]
    },
    {
     "name": "stdout",
     "output_type": "stream",
     "text": [
      "11 -  Value Investing\n"
     ]
    },
    {
     "name": "stderr",
     "output_type": "stream",
     "text": [
      "81793it [14:33, 56.27it/s] "
     ]
    },
    {
     "name": "stdout",
     "output_type": "stream",
     "text": [
      "11 -  Value Investing\n",
      "Value Investing True\n"
     ]
    },
    {
     "name": "stderr",
     "output_type": "stream",
     "text": [
      "83113it [14:43, 63.67it/s] "
     ]
    },
    {
     "name": "stdout",
     "output_type": "stream",
     "text": [
      "10 -  Unternehmenszusammenschluss\n"
     ]
    },
    {
     "name": "stderr",
     "output_type": "stream",
     "text": [
      "83707it [14:48, 46.46it/s] "
     ]
    },
    {
     "name": "stdout",
     "output_type": "stream",
     "text": [
      "10 -  Reiseveranstalter\n"
     ]
    },
    {
     "name": "stderr",
     "output_type": "stream",
     "text": [
      "83986it [14:50, 120.74it/s]"
     ]
    },
    {
     "name": "stdout",
     "output_type": "stream",
     "text": [
      "11 -  Briefkastengesellschaft\n"
     ]
    },
    {
     "name": "stderr",
     "output_type": "stream",
     "text": [
      "84024it [14:52, 44.08it/s] "
     ]
    },
    {
     "name": "stdout",
     "output_type": "stream",
     "text": [
      "11 -  Briefkastengesellschaft\n",
      "Briefkastengesellschaft True\n"
     ]
    },
    {
     "name": "stderr",
     "output_type": "stream",
     "text": [
      "85450it [15:03, 53.64it/s] "
     ]
    },
    {
     "name": "stdout",
     "output_type": "stream",
     "text": [
      "10 -  Weißer Ritter (Wirtschaft)\n"
     ]
    },
    {
     "name": "stderr",
     "output_type": "stream",
     "text": [
      "86279it [15:09, 127.02it/s]"
     ]
    },
    {
     "name": "stdout",
     "output_type": "stream",
     "text": [
      "10 -  Substanzwert\n"
     ]
    },
    {
     "name": "stderr",
     "output_type": "stream",
     "text": [
      "86315it [15:11, 40.58it/s] "
     ]
    },
    {
     "name": "stdout",
     "output_type": "stream",
     "text": [
      "10 -  Liquidationswert\n"
     ]
    },
    {
     "name": "stderr",
     "output_type": "stream",
     "text": [
      "86658it [15:14, 128.70it/s]"
     ]
    },
    {
     "name": "stdout",
     "output_type": "stream",
     "text": [
      "11 -  Heimarbeit\n"
     ]
    },
    {
     "name": "stderr",
     "output_type": "stream",
     "text": [
      "86672it [15:15, 30.13it/s] "
     ]
    },
    {
     "name": "stdout",
     "output_type": "stream",
     "text": [
      "11 -  Heimarbeit\n",
      "Heimarbeit True\n"
     ]
    },
    {
     "name": "stderr",
     "output_type": "stream",
     "text": [
      "87078it [15:18, 256.08it/s]"
     ]
    },
    {
     "name": "stdout",
     "output_type": "stream",
     "text": [
      "11 -  Netzwerk-Marketing\n"
     ]
    },
    {
     "name": "stderr",
     "output_type": "stream",
     "text": [
      "87130it [15:21, 38.61it/s] "
     ]
    },
    {
     "name": "stdout",
     "output_type": "stream",
     "text": [
      "11 -  Netzwerk-Marketing\n",
      "Netzwerk-Marketing True\n"
     ]
    },
    {
     "name": "stderr",
     "output_type": "stream",
     "text": [
      "89918it [15:40, 69.72it/s] "
     ]
    },
    {
     "name": "stdout",
     "output_type": "stream",
     "text": [
      "10 -  Trinkhalle (Verkaufsstelle)\n"
     ]
    },
    {
     "name": "stderr",
     "output_type": "stream",
     "text": [
      "90197it [15:42, 76.39it/s] "
     ]
    },
    {
     "name": "stdout",
     "output_type": "stream",
     "text": [
      "10 -  Studentische Unternehmensberatung\n"
     ]
    },
    {
     "name": "stderr",
     "output_type": "stream",
     "text": [
      "92884it [16:00, 128.68it/s]"
     ]
    },
    {
     "name": "stdout",
     "output_type": "stream",
     "text": [
      "10 -  Michael Bürsch\n"
     ]
    },
    {
     "name": "stderr",
     "output_type": "stream",
     "text": [
      "93353it [16:04, 79.05it/s] "
     ]
    },
    {
     "name": "stdout",
     "output_type": "stream",
     "text": [
      "10 -  Cluster (Wirtschaft)\n"
     ]
    },
    {
     "name": "stderr",
     "output_type": "stream",
     "text": [
      "93859it [16:08, 46.81it/s] "
     ]
    },
    {
     "name": "stdout",
     "output_type": "stream",
     "text": [
      "10 -  Tonträgerunternehmen\n"
     ]
    },
    {
     "name": "stderr",
     "output_type": "stream",
     "text": [
      "95106it [16:18, 90.24it/s] "
     ]
    },
    {
     "name": "stdout",
     "output_type": "stream",
     "text": [
      "10 -  Ferienhaus\n"
     ]
    },
    {
     "name": "stderr",
     "output_type": "stream",
     "text": [
      "95839it [16:26, 60.59it/s] "
     ]
    },
    {
     "name": "stdout",
     "output_type": "stream",
     "text": [
      "10 -  Freier Beruf (Deutschland)\n"
     ]
    },
    {
     "name": "stderr",
     "output_type": "stream",
     "text": [
      "98197it [16:40, 101.34it/s]"
     ]
    },
    {
     "name": "stdout",
     "output_type": "stream",
     "text": [
      "10 -  Kleine und mittlere Unternehmen\n"
     ]
    },
    {
     "name": "stderr",
     "output_type": "stream",
     "text": [
      "98278it [16:41, 92.14it/s] "
     ]
    },
    {
     "name": "stdout",
     "output_type": "stream",
     "text": [
      "10 -  Rittergut\n"
     ]
    },
    {
     "name": "stderr",
     "output_type": "stream",
     "text": [
      "99688it [16:50, 80.31it/s] "
     ]
    },
    {
     "name": "stdout",
     "output_type": "stream",
     "text": [
      "10 -  Auffanggesellschaft\n"
     ]
    },
    {
     "name": "stderr",
     "output_type": "stream",
     "text": [
      "100702it [16:56, 144.26it/s]"
     ]
    },
    {
     "name": "stdout",
     "output_type": "stream",
     "text": [
      "11 -  Versicherungsvermittler\n"
     ]
    },
    {
     "name": "stderr",
     "output_type": "stream",
     "text": [
      "100745it [16:58, 43.71it/s] "
     ]
    },
    {
     "name": "stdout",
     "output_type": "stream",
     "text": [
      "11 -  Versicherungsvermittler\n",
      "Versicherungsvermittler True\n"
     ]
    },
    {
     "name": "stderr",
     "output_type": "stream",
     "text": [
      "100820it [16:59, 61.31it/s]"
     ]
    },
    {
     "name": "stdout",
     "output_type": "stream",
     "text": [
      "10 -  Gutshof\n"
     ]
    },
    {
     "name": "stderr",
     "output_type": "stream",
     "text": [
      "101170it [17:02, 82.99it/s] "
     ]
    },
    {
     "name": "stdout",
     "output_type": "stream",
     "text": [
      "10 -  Margareta Wolf\n"
     ]
    },
    {
     "name": "stderr",
     "output_type": "stream",
     "text": [
      "101954it [17:07, 60.92it/s] "
     ]
    },
    {
     "name": "stdout",
     "output_type": "stream",
     "text": [
      "10 -  Laurenz Meyer\n"
     ]
    },
    {
     "name": "stderr",
     "output_type": "stream",
     "text": [
      "101977it [17:08, 47.39it/s]"
     ]
    },
    {
     "name": "stdout",
     "output_type": "stream",
     "text": [
      "10 -  Eigenbetrieb\n"
     ]
    },
    {
     "name": "stderr",
     "output_type": "stream",
     "text": [
      "102857it [17:15, 99.62it/s] "
     ]
    },
    {
     "name": "stdout",
     "output_type": "stream",
     "text": [
      "10 -  Squeeze-out\n"
     ]
    },
    {
     "name": "stderr",
     "output_type": "stream",
     "text": [
      "103144it [17:17, 47.60it/s] "
     ]
    },
    {
     "name": "stdout",
     "output_type": "stream",
     "text": [
      "10 -  Verkehrsunternehmen\n"
     ]
    },
    {
     "name": "stderr",
     "output_type": "stream",
     "text": [
      "103584it [17:21, 63.72it/s] "
     ]
    },
    {
     "name": "stdout",
     "output_type": "stream",
     "text": [
      "10 -  Regiebetrieb (Gebietskörperschaft)\n"
     ]
    },
    {
     "name": "stderr",
     "output_type": "stream",
     "text": [
      "103674it [17:22, 82.15it/s] "
     ]
    },
    {
     "name": "stdout",
     "output_type": "stream",
     "text": [
      "10 -  Günter Verheugen\n"
     ]
    },
    {
     "name": "stderr",
     "output_type": "stream",
     "text": [
      "104110it [17:25, 99.61it/s] "
     ]
    },
    {
     "name": "stdout",
     "output_type": "stream",
     "text": [
      "10 -  Pilgerherberge\n"
     ]
    },
    {
     "name": "stderr",
     "output_type": "stream",
     "text": [
      "105613it [17:34, 82.55it/s] "
     ]
    },
    {
     "name": "stdout",
     "output_type": "stream",
     "text": [
      "10 -  Liste von Konsumvereinen\n"
     ]
    },
    {
     "name": "stderr",
     "output_type": "stream",
     "text": [
      "106780it [17:43, 59.17it/s] "
     ]
    },
    {
     "name": "stdout",
     "output_type": "stream",
     "text": [
      "10 -  Fundamentalanalyse\n"
     ]
    },
    {
     "name": "stderr",
     "output_type": "stream",
     "text": [
      "107280it [17:49, 43.91it/s] "
     ]
    },
    {
     "name": "stdout",
     "output_type": "stream",
     "text": [
      "10 -  Altenheim\n"
     ]
    },
    {
     "name": "stderr",
     "output_type": "stream",
     "text": [
      "109509it [18:02, 96.85it/s] "
     ]
    },
    {
     "name": "stdout",
     "output_type": "stream",
     "text": [
      "10 -  Sexshop\n"
     ]
    },
    {
     "name": "stderr",
     "output_type": "stream",
     "text": [
      "112008it [18:14, 97.79it/s] "
     ]
    },
    {
     "name": "stdout",
     "output_type": "stream",
     "text": [
      "10 -  Headshop\n"
     ]
    },
    {
     "name": "stderr",
     "output_type": "stream",
     "text": [
      "112028it [18:15, 72.83it/s]"
     ]
    },
    {
     "name": "stdout",
     "output_type": "stream",
     "text": [
      "10 -  Smartshop\n"
     ]
    },
    {
     "name": "stderr",
     "output_type": "stream",
     "text": [
      "112043it [18:16, 48.05it/s]"
     ]
    },
    {
     "name": "stdout",
     "output_type": "stream",
     "text": [
      "10 -  Growshop\n"
     ]
    },
    {
     "name": "stderr",
     "output_type": "stream",
     "text": [
      "112089it [18:17, 56.31it/s]"
     ]
    },
    {
     "name": "stdout",
     "output_type": "stream",
     "text": [
      "10 -  Tochtergesellschaft\n"
     ]
    },
    {
     "name": "stderr",
     "output_type": "stream",
     "text": [
      "112598it [18:19, 115.17it/s]"
     ]
    },
    {
     "name": "stdout",
     "output_type": "stream",
     "text": [
      "10 -  Trust (Wirtschaft)\n"
     ]
    },
    {
     "name": "stderr",
     "output_type": "stream",
     "text": [
      "114252it [18:27, 78.79it/s] "
     ]
    },
    {
     "name": "stdout",
     "output_type": "stream",
     "text": [
      "10 -  Verbrauchermarkt\n"
     ]
    },
    {
     "name": "stderr",
     "output_type": "stream",
     "text": [
      "115593it [18:35, 105.91it/s]"
     ]
    },
    {
     "name": "stdout",
     "output_type": "stream",
     "text": [
      "10 -  Ausbildungsbetrieb\n"
     ]
    },
    {
     "name": "stderr",
     "output_type": "stream",
     "text": [
      "116148it [18:37, 282.15it/s]"
     ]
    },
    {
     "name": "stdout",
     "output_type": "stream",
     "text": [
      "11 -  Reformhaus\n"
     ]
    },
    {
     "name": "stderr",
     "output_type": "stream",
     "text": [
      "116178it [18:38, 76.33it/s] "
     ]
    },
    {
     "name": "stdout",
     "output_type": "stream",
     "text": [
      "11 -  Reformhaus\n",
      "Reformhaus True\n"
     ]
    },
    {
     "name": "stderr",
     "output_type": "stream",
     "text": [
      "118443it [18:49, 212.73it/s]"
     ]
    },
    {
     "name": "stdout",
     "output_type": "stream",
     "text": [
      "11 -  Kapitalerhöhung\n"
     ]
    },
    {
     "name": "stderr",
     "output_type": "stream",
     "text": [
      "118499it [18:51, 60.69it/s] "
     ]
    },
    {
     "name": "stdout",
     "output_type": "stream",
     "text": [
      "11 -  Kapitalerhöhung\n",
      "Kapitalerhöhung True\n"
     ]
    },
    {
     "name": "stderr",
     "output_type": "stream",
     "text": [
      "118807it [18:52, 219.46it/s]"
     ]
    },
    {
     "name": "stdout",
     "output_type": "stream",
     "text": [
      "11 -  Schering AG\n"
     ]
    },
    {
     "name": "stderr",
     "output_type": "stream",
     "text": [
      "118832it [18:54, 61.60it/s] "
     ]
    },
    {
     "name": "stdout",
     "output_type": "stream",
     "text": [
      "11 -  Schering AG\n",
      "Schering AG True\n"
     ]
    },
    {
     "name": "stderr",
     "output_type": "stream",
     "text": [
      "119651it [18:58, 236.59it/s]"
     ]
    },
    {
     "name": "stdout",
     "output_type": "stream",
     "text": [
      "11 -  Parfümerie\n"
     ]
    },
    {
     "name": "stderr",
     "output_type": "stream",
     "text": [
      "119712it [18:59, 67.39it/s] "
     ]
    },
    {
     "name": "stdout",
     "output_type": "stream",
     "text": [
      "11 -  Parfümerie\n",
      "Parfümerie True\n"
     ]
    },
    {
     "name": "stderr",
     "output_type": "stream",
     "text": [
      "121909it [19:12, 188.54it/s]"
     ]
    },
    {
     "name": "stdout",
     "output_type": "stream",
     "text": [
      "10 -  Investmentgesellschaft\n"
     ]
    },
    {
     "name": "stderr",
     "output_type": "stream",
     "text": [
      "124168it [19:27, 100.92it/s]"
     ]
    },
    {
     "name": "stdout",
     "output_type": "stream",
     "text": [
      "11 -  Unternehmen\n"
     ]
    },
    {
     "name": "stderr",
     "output_type": "stream",
     "text": [
      "124181it [19:32, 11.30it/s] "
     ]
    },
    {
     "name": "stdout",
     "output_type": "stream",
     "text": [
      "11 -  Unternehmen\n",
      "Unternehmen True\n"
     ]
    },
    {
     "name": "stderr",
     "output_type": "stream",
     "text": [
      "125137it [19:57,  8.89it/s] "
     ]
    },
    {
     "name": "stdout",
     "output_type": "stream",
     "text": [
      "10 -  Wulf von Schimmelmann\n"
     ]
    },
    {
     "name": "stderr",
     "output_type": "stream",
     "text": [
      "126314it [20:07, 25.72it/s] "
     ]
    },
    {
     "name": "stdout",
     "output_type": "stream",
     "text": [
      "10 -  Unternehmer\n"
     ]
    },
    {
     "name": "stderr",
     "output_type": "stream",
     "text": [
      "126446it [20:09, 37.77it/s]"
     ]
    },
    {
     "name": "stdout",
     "output_type": "stream",
     "text": [
      "10 -  Buchwert\n"
     ]
    },
    {
     "name": "stderr",
     "output_type": "stream",
     "text": [
      "128244it [20:22, 23.89it/s] "
     ]
    },
    {
     "name": "stdout",
     "output_type": "stream",
     "text": [
      "10 -  Betriebswirtschaftslehre\n"
     ]
    },
    {
     "name": "stderr",
     "output_type": "stream",
     "text": [
      "128483it [20:39,  6.32it/s] "
     ]
    },
    {
     "name": "stdout",
     "output_type": "stream",
     "text": [
      "10 -  Brockenhaus\n"
     ]
    },
    {
     "name": "stderr",
     "output_type": "stream",
     "text": [
      "129825it [21:02,  6.78it/s] "
     ]
    },
    {
     "name": "stdout",
     "output_type": "stream",
     "text": [
      "10 -  Konglomerat (Firmen)\n"
     ]
    },
    {
     "name": "stderr",
     "output_type": "stream",
     "text": [
      "131482it [21:15, 230.85it/s]"
     ]
    },
    {
     "name": "stdout",
     "output_type": "stream",
     "text": [
      "11 -  Reisegewerbe\n"
     ]
    },
    {
     "name": "stderr",
     "output_type": "stream",
     "text": [
      "131538it [21:22, 18.91it/s] "
     ]
    },
    {
     "name": "stdout",
     "output_type": "stream",
     "text": [
      "11 -  Reisegewerbe\n",
      "Reisegewerbe True\n"
     ]
    },
    {
     "name": "stderr",
     "output_type": "stream",
     "text": [
      "133076it [21:36, 15.33it/s] "
     ]
    },
    {
     "name": "stdout",
     "output_type": "stream",
     "text": [
      "10 -  Henninger-Turm\n"
     ]
    },
    {
     "name": "stderr",
     "output_type": "stream",
     "text": [
      "135175it [21:50, 97.98it/s] "
     ]
    },
    {
     "name": "stdout",
     "output_type": "stream",
     "text": [
      "10 -  Strategische Unternehmensführung\n"
     ]
    },
    {
     "name": "stderr",
     "output_type": "stream",
     "text": [
      "135505it [21:51, 237.33it/s]"
     ]
    },
    {
     "name": "stdout",
     "output_type": "stream",
     "text": [
      "11 -  Gordon-Formel\n"
     ]
    },
    {
     "name": "stderr",
     "output_type": "stream",
     "text": [
      "135558it [21:54, 60.60it/s] "
     ]
    },
    {
     "name": "stdout",
     "output_type": "stream",
     "text": [
      "11 -  Gordon-Formel\n",
      "Gordon-Formel True\n"
     ]
    },
    {
     "name": "stderr",
     "output_type": "stream",
     "text": [
      "136463it [22:01, 26.15it/s] "
     ]
    },
    {
     "name": "stdout",
     "output_type": "stream",
     "text": [
      "10 -  Maria Rauch-Kallat\n"
     ]
    },
    {
     "name": "stderr",
     "output_type": "stream",
     "text": [
      "136905it [22:06, 34.98it/s] "
     ]
    },
    {
     "name": "stdout",
     "output_type": "stream",
     "text": [
      "10 -  Weighted Average Cost of Capital\n"
     ]
    },
    {
     "name": "stderr",
     "output_type": "stream",
     "text": [
      "137514it [22:12, 29.16it/s] "
     ]
    },
    {
     "name": "stdout",
     "output_type": "stream",
     "text": [
      "10 -  Gesetz zur Kontrolle und Transparenz im Unternehmensbereich\n"
     ]
    },
    {
     "name": "stderr",
     "output_type": "stream",
     "text": [
      "142150it [22:34, 209.01it/s]"
     ]
    },
    {
     "name": "stdout",
     "output_type": "stream",
     "text": [
      "11 -  Unternehmensethik\n"
     ]
    },
    {
     "name": "stderr",
     "output_type": "stream",
     "text": [
      "142174it [22:40, 13.07it/s] "
     ]
    },
    {
     "name": "stdout",
     "output_type": "stream",
     "text": [
      "11 -  Unternehmensethik\n",
      "Unternehmensethik True\n"
     ]
    },
    {
     "name": "stderr",
     "output_type": "stream",
     "text": [
      "142210it [22:43, 14.38it/s]"
     ]
    },
    {
     "name": "stdout",
     "output_type": "stream",
     "text": [
      "10 -  Bäckerei\n"
     ]
    },
    {
     "name": "stderr",
     "output_type": "stream",
     "text": [
      "142932it [22:49, 50.11it/s] "
     ]
    },
    {
     "name": "stdout",
     "output_type": "stream",
     "text": [
      "10 -  Verkehrsverbund\n"
     ]
    },
    {
     "name": "stderr",
     "output_type": "stream",
     "text": [
      "144585it [22:58, 35.37it/s] "
     ]
    },
    {
     "name": "stdout",
     "output_type": "stream",
     "text": [
      "10 -  Aussiedlerhof\n"
     ]
    },
    {
     "name": "stderr",
     "output_type": "stream",
     "text": [
      "144784it [23:01, 46.70it/s] "
     ]
    },
    {
     "name": "stdout",
     "output_type": "stream",
     "text": [
      "10 -  Auerbräu\n"
     ]
    },
    {
     "name": "stderr",
     "output_type": "stream",
     "text": [
      "145578it [23:06, 103.97it/s]"
     ]
    },
    {
     "name": "stdout",
     "output_type": "stream",
     "text": [
      "10 -  Heino Wiese\n"
     ]
    },
    {
     "name": "stderr",
     "output_type": "stream",
     "text": [
      "147099it [23:16, 38.13it/s] "
     ]
    },
    {
     "name": "stdout",
     "output_type": "stream",
     "text": [
      "10 -  Sparkassen-Finanzgruppe\n"
     ]
    },
    {
     "name": "stderr",
     "output_type": "stream",
     "text": [
      "155401it [23:57, 108.07it/s]\n"
     ]
    }
   ],
   "source": [
    "pattern = re.compile('.*\\[\\[Kategorie:(.*)\\]\\].*') # Regex-Kriterium für Erkennung von \"Kategorie\" Feld, welches sich unten auf jeder Wikipedia-Seite befindet.\n",
    "list_of_words = ['hersteller', 'unternehmen', 'Unternehmen', 'Hersteller'] # Sollten keywords dieser Liste in dem \"Kategorien\"-Feld enthalten sein, liefert dies Hinweise darauf, dass es sich bei dem Thema des Artikels um ein Unternehmen handelt.\n",
    "uncertainty_markers = ['unternehmens', 'Unternehmens'] # Allerding gibt es auch Ausschlusskriterien, die zunächst nur auf mögliche Unsicherheiten hinweisen: könnte es sich in der Kategorie z.B. um einen Untenehmensberater handeln und nicht direkt ein Unternehmen?\n",
    "words_re = re.compile(\"|\".join(list_of_words)) # Erstellung des Regex-Musters mit Liste\n",
    "uncertainty_re = re.compile(\"|\".join(uncertainty_markers)) # Erstellung des Regex-Musters mit Liste\n",
    "\n",
    "with open(\"../data/title-categories-map.txt\", mode=\"w\") as outfile: # Eine Textdatei wird im Schreibemodus erstellt oder geöffnet und bildet Ablage für erkannte Firmen.\n",
    "    for i, page in enumerate(tqdm(dump)): # Iteration über Seiten im Dump\n",
    "        try: # Try-Catch-Block, damit einzelne Fehler nicht zu Abbruch des Schreibprozesses führen - gerade bei großem Dump sehr wichtig\n",
    "            line = \"\" # Erstellung der Lines, welche später in Textdatei abgebildet werden.\n",
    "            line += page.title + \",\" # Der Titel der Wikipediaseite bildet das erste Attribut der Zeile und wird per Komma separiert\n",
    "            for revision in page: # Iteration über revisions\n",
    "                for match in pattern.finditer(revision.text): # Anwendung des ersten Regex-Patterns, welches auf Kategorienfeld hindeutet oder nicht.\n",
    "                    line += match.group(1) + \",\" \n",
    "            line = line.strip(\",\")\n",
    "            #lines.append(line)\n",
    "            if words_re.search(str(line)): # Anwendung des zweiten Regex-Patterns, um grob zu erkennen, ob es sich bei der seite um die eines Unternehmens handeln könnte, oder nicht.\n",
    "                if uncertainty_re.search(str(line)): # Das nächste Regex-Pattern weist auf Unsicherheiten hin, da oft \"Unternehmens\" + \"andere Wortteil\", darauf hindeuten, dass Artikel selbst nur etwas, mit der Firma im Zusammenhang setehendes, thematisiert.\n",
    "                    if not reduceUncertainty(page.title): # Um hier mehr Gewissheit zu erlangen werden in den vereinzelten Fällen die eigenen Wikipediaartikel der Entitätenuntersucht. True wird zurückgegeben, wenn es sich um Firma handeln könnte.\n",
    "                        print(page.title,reduceUncertainty(page.title)) # True bei reduceUncertainty() weist auf Firma hin, in welchem Fall der for-Loop fortgesetzt wird über continue.\n",
    "                        continue\n",
    "                    else:\n",
    "                        outfile.write(line+\"\\n\") \n",
    "                else:\n",
    "                        outfile.write(line+\"\\n\")\n",
    "        except:\n",
    "            print(\"An exception occurred\") # Hier wird ein, falls notwendig erweiterbarer Fehlerhinweis ausgegeben.\n",
    "            continue"
   ]
  },
  {
   "cell_type": "markdown",
   "metadata": {},
   "source": [
    "## C) Extraktion der Infobox\n",
    "\n",
    "Der Aufbau einer Infobox eines Unternehmens in dessen Wikipedia Artikel ist streng definiert. Die Infobox beginnt mit zwei geschweiften Klammern und dem Typ des Eintrags, in diesem Fall {{{Infobox Unternehmen. Sie enthält maximal 14 Einträge: Name, Logo, Unternehmensform, ISIN, Gründungsdatum, Auflösungsdatum, Sitz, Leitung, Mitarbeiterzahl, Umsatz, Stand, Branche, Website. Erforderlich sind hiervon Unternehmensform sowie Sitz. \n",
    "\n",
    "Die Infobox wird mit folgendem Regex Pattern definiert: ((?<={{Infobox Unternehmen.).*?(?<=Homepage).*?(}})).\n",
    "Es wird der Inhalt nach {{Infobox Unternehmen bis einschließlich dem letzten Eintrag Homepage.*?}} ausgelesen. \n",
    "\n",
    "Verbesserungsvorschlag: Einträge einzeln auslesen, sodass nur die Parameter ausgegeben werden, die einen Wert besitzen."
   ]
  },
  {
   "cell_type": "code",
   "execution_count": null,
   "metadata": {},
   "outputs": [],
   "source": [
    "#getting the infobox of a company\n",
    "\n",
    "infobox = re.compile('((?<={{Infobox Unternehmen.).*?(?<=Homepage).*?(}}))') #regex pattern gets text between keyword 'Infobox Unternehmen' and 'Homepage' \n",
    "\n",
    "with open(\"../data/infobox.txt\", mode=\"w\") as outfile:\n",
    "    for i, page in enumerate(tqdm(dump)):\n",
    "        line = ''\n",
    "        for revision in page: \n",
    "            revision = re.sub(r'\\n', '', revision.text) #removing linebreaks \n",
    "            for match in infobox.finditer(revision):\n",
    "                line += match.group(1) + \"\\n\" \n",
    "                line = \" \".join(line.split()) #if there are multiple whitespaces, all except for one get deleted \n",
    "                outfile.write(line+\"\\n\")\n",
    "    "
   ]
  },
  {
   "cell_type": "code",
   "execution_count": null,
   "metadata": {},
   "outputs": [],
   "source": [
    "num_lines = sum(1 for line in open('../data/infobox.txt'))\n",
    "print(num_lines)\n",
    "#Output:697"
   ]
  },
  {
   "cell_type": "markdown",
   "metadata": {},
   "source": [
    "Nun soll auch für Unternehmen ohne Infobox deren Namen sowie dessen Webseite ausgegeben werden. \n",
    "\n",
    "Hierfür wird im ersten Schritt geprüft, ob der Wikipedia Artikel des Unternehmens das Wort Infobox enthält. Dies wird mit folgendem Regex Pattern geprüft: (?!.*?Infobox)^.*$ \n",
    "Enthält der Artikel das Wort nicht, so erkennt das Regex Pattern den gesamten Artikel. \n",
    "Wird der Artikel als Unternehmensartikel klassifiziert und enthält er das Wort Infobox nicht, wird der Artikelname (=Unternehmensname) ausgegeben. \n",
    "\n",
    "Um nun auch die Webseite des Unternehmens ausgeben zu lassen, wird folgendes Regex Pattern angewandt: \n",
    ".*((?<=Weblinks...).*?(?=...Einzelnachweise)).*\n",
    "Dies gibt alle in der Sektion Weblinks eingetragnenen Webseiten aus, worunter oftmals auch die offizielle Unternehmenswebseite fällt. \n",
    "\n",
    "Verbesserungsvorschlag: Es werden viele Artikel ausgelesen, die die Kategorie Unternehmsart enthalten, aber keine Unternehmen sind. Diese sind oftmals allgemeine Informationsseiten und enthalten daher auch keine Infobox, weshalb sie vermehrt ausgelesen werden. \n",
    "Darüber hinaus wird für die Unternehmenswebseite die ganze Sektion der Weblinks ausgelesen, die oftmals auch andere weiterführende Links enthält. Eine Verbesserungsmöglichkeit bestände darin, den Namen des Unternehmens in den Links zu suchen und nur die Links, die den Namen enthalten, auszugegeben. "
   ]
  },
  {
   "cell_type": "code",
   "execution_count": null,
   "metadata": {},
   "outputs": [],
   "source": [
    "#Companies without infobox\n",
    "pattern = re.compile('.*\\[\\[Kategorie:(.*)\\]\\].*')\n",
    "list_of_words = ['hersteller', 'unternehmen', 'Unternehmen', 'Hersteller']\n",
    "words_re = re.compile(\"|\".join(list_of_words))\n",
    "\n",
    "no_infobox = re.compile('(?!.*?Infobox)^.*$') #gets the whole article if it doesn´t contain 'Infobox'\n",
    "pattern_website = re.compile('.*((?<=Weblinks...).*?(?=...Einzelnachweise)).*') \n",
    "\n",
    "\n",
    "with open(\"../data/company_name&website.txt\", mode=\"w\") as outfile:\n",
    "    for i, page in enumerate(tqdm(dump)):\n",
    "        line = \"\"\n",
    "        line += page.title\n",
    "        website = \"\"\n",
    "        for revision in page:\n",
    "            revision = re.sub(r'\\n', '', revision.text) #removing the line breaks \n",
    "            for match in pattern.finditer(revision):\n",
    "                line += match.group(1)  \n",
    "        \n",
    "        if words_re.search(str(line)):\n",
    "            for match in no_infobox.finditer(revision): #getting companies without an infobox \n",
    "                for match in pattern_website.finditer(revision): #getting the weblinks which contain the company url \n",
    "                    outfile.write(page.title+\"\\n\") #printing the page title = company name \n",
    "                    website += match.group(1)\n",
    "                    outfile.write(website+\"\\n\"+\"\\n\")"
   ]
  },
  {
   "cell_type": "code",
   "execution_count": null,
   "metadata": {},
   "outputs": [],
   "source": [
    "companies_without_infobox = sum((1/3) for line in open('../data/company_name&website.txt'))\n",
    "print(companies_without_infobox)\n",
    "#Output: 136 "
   ]
  },
  {
   "cell_type": "markdown",
   "metadata": {},
   "source": [
    "Um nun eine Kurzbeschreibung des Unternehmens zu erhalten, wird der erste Satz des Artikels erfasst. Dieser enthält bei Unternehmen den Unternehmensnamen eingefasst in ''' '''. Aus diesem Grund wird folgendes Regex Pattern angewandt, um den ersten Satz auszulesen: \n",
    "((?<=\\''' ).*?(?<=\\.)+) "
   ]
  },
  {
   "cell_type": "code",
   "execution_count": null,
   "metadata": {},
   "outputs": [],
   "source": [
    "pattern = re.compile('.*\\[\\[Kategorie:(.*)\\]\\].*')\n",
    "pattern = re.compile('.*\\[\\[Kategorie:(.*)\\]\\].*')\n",
    "list_of_words = ['hersteller', 'unternehmen', 'Unternehmen', 'Hersteller']\n",
    "words_re = re.compile(\"|\".join(list_of_words))\n",
    "\n",
    "pattern_firstsentence = re.compile('((?<=\\''' ).*?(?<=\\.))')\n",
    "#Erster Satz fängt meistens mit dem Firmennamen in ''' ''' an. Dann wird der erste Punkt gesucht.\n",
    "\n",
    "with open(\"../data/firstsentence.txt\", mode=\"w\") as outfile:\n",
    "    for i, page in enumerate(tqdm(dump)):\n",
    "        line = \"\"\n",
    "        line += page.title\n",
    "        firstsentence = \"\"\n",
    "        for revision in page:\n",
    "            for match in pattern.finditer(revision.text):\n",
    "                line += match.group(1)  \n",
    "        \n",
    "        if words_re.search(str(line)):\n",
    "            for match in pattern_firstsentence.finditer(revision.text):\n",
    "                firstsentence += match.group(1)\n",
    "                firstsentence.replace(r'\\*', '')\n",
    "            outfile.write(page.title+\"\\n\")\n",
    "            outfile.write(firstsentence+\"\\n\"+\"\\n\")"
   ]
  },
  {
   "cell_type": "code",
   "execution_count": null,
   "metadata": {},
   "outputs": [],
   "source": [
    "firstsentences = sum((1/3) for line in open('../data/firstsentence.txt'))\n",
    "print(firstsentences)\n",
    "#Output: 1570"
   ]
  }
 ],
 "metadata": {
  "kernelspec": {
   "display_name": "Python 3.8.10 ('forschungsseminar-nlp-PHREsQ0p-py3.8')",
   "language": "python",
   "name": "python3"
  },
  "language_info": {
   "codemirror_mode": {
    "name": "ipython",
    "version": 3
   },
   "file_extension": ".py",
   "mimetype": "text/x-python",
   "name": "python",
   "nbconvert_exporter": "python",
   "pygments_lexer": "ipython3",
   "version": "3.8.10"
  },
  "orig_nbformat": 4,
  "vscode": {
   "interpreter": {
    "hash": "e81bfc76e4edf5eaac366b2d174cdc806bcd54ed715e8fa404f22fdaba1607b5"
   }
  }
 },
 "nbformat": 4,
 "nbformat_minor": 2
}
