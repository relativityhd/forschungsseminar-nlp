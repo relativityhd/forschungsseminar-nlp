{
 "cells": [
  {
   "cell_type": "code",
   "execution_count": 13,
   "metadata": {},
   "outputs": [],
   "source": [
    "import os\n",
    "import requests\n",
    "\n",
    "import numpy as np\n",
    "import pandas as pd\n",
    "from tqdm import tqdm"
   ]
  },
  {
   "cell_type": "markdown",
   "metadata": {},
   "source": [
    "## Download file\n",
    "\n",
    "Download file as streamable request to prevent out-of-memory errors since the file is \"somewhat\" large. 26MB should be easy to save, but this programm should also handle larger amounts of data (e.g. multiple GB). Therefore streaming is saver to use."
   ]
  },
  {
   "cell_type": "code",
   "execution_count": 7,
   "metadata": {},
   "outputs": [],
   "source": [
    "os.makedirs(\"../data\", exist_ok=True)\n",
    "with requests.get(\"http://144.76.101.108/sent.txt\", stream=True) as r:\n",
    "    r.raise_for_status()\n",
    "    with open(\"../data/sent.txt\", 'wb') as f:\n",
    "        for chunk in r.iter_content(chunk_size=8192):\n",
    "            f.write(chunk)"
   ]
  },
  {
   "cell_type": "markdown",
   "metadata": {},
   "source": [
    "## Check for invalid characters\n",
    "\n",
    "Only let pass ASCII-Chars. Remove invalid line-endings"
   ]
  },
  {
   "cell_type": "code",
   "execution_count": 16,
   "metadata": {},
   "outputs": [
    {
     "name": "stderr",
     "output_type": "stream",
     "text": [
      "100%|██████████| 156559/156559 [00:00<00:00, 1254527.43it/s]\n"
     ]
    },
    {
     "data": {
      "text/html": [
       "<div>\n",
       "<style scoped>\n",
       "    .dataframe tbody tr th:only-of-type {\n",
       "        vertical-align: middle;\n",
       "    }\n",
       "\n",
       "    .dataframe tbody tr th {\n",
       "        vertical-align: top;\n",
       "    }\n",
       "\n",
       "    .dataframe thead th {\n",
       "        text-align: right;\n",
       "    }\n",
       "</style>\n",
       "<table border=\"1\" class=\"dataframe\">\n",
       "  <thead>\n",
       "    <tr style=\"text-align: right;\">\n",
       "      <th></th>\n",
       "      <th>URL</th>\n",
       "      <th>Kategorie</th>\n",
       "      <th>Text</th>\n",
       "    </tr>\n",
       "  </thead>\n",
       "  <tbody>\n",
       "    <tr>\n",
       "      <th>0</th>\n",
       "      <td>https://www.kununu.com/de/b2x-care-solutions</td>\n",
       "      <td>Pro</td>\n",
       "      <td>Internationale Teamarbeit, schnelle Entscheidu...</td>\n",
       "    </tr>\n",
       "    <tr>\n",
       "      <th>1</th>\n",
       "      <td>https://www.kununu.com/de/b2x-care-solutions</td>\n",
       "      <td>Contra</td>\n",
       "      <td>Ressourcen und Geld zu wenig, um alle Chancen ...</td>\n",
       "    </tr>\n",
       "    <tr>\n",
       "      <th>2</th>\n",
       "      <td>https://www.kununu.com/de/tayfunrecruitment/a/...</td>\n",
       "      <td>Contra</td>\n",
       "      <td>Es gibt keine Firmenparkplätze</td>\n",
       "    </tr>\n",
       "    <tr>\n",
       "      <th>3</th>\n",
       "      <td>https://www.kununu.com/de/fuchs-foerdertechnik</td>\n",
       "      <td>Contra</td>\n",
       "      <td>keine Aussagen über zukünftige Entwicklungen. ...</td>\n",
       "    </tr>\n",
       "    <tr>\n",
       "      <th>4</th>\n",
       "      <td>https://www.kununu.com/de/berufliches-training...</td>\n",
       "      <td>Pro</td>\n",
       "      <td>Super Team, erstklassige Einarbeitung, sehr ha...</td>\n",
       "    </tr>\n",
       "    <tr>\n",
       "      <th>...</th>\n",
       "      <td>...</td>\n",
       "      <td>...</td>\n",
       "      <td>...</td>\n",
       "    </tr>\n",
       "    <tr>\n",
       "      <th>156553</th>\n",
       "      <td>https://www.kununu.com/de/aviretta/a/SUFqV1J8f...</td>\n",
       "      <td>Karriere / Weiterbildung</td>\n",
       "      <td>Mit Leistung kommt man da nicht weiter. Von We...</td>\n",
       "    </tr>\n",
       "    <tr>\n",
       "      <th>156554</th>\n",
       "      <td>https://www.kununu.com/de/aviretta/a/SUFqV1J8f...</td>\n",
       "      <td>Arbeitsbedingungen</td>\n",
       "      <td>entspricht nicht den Standard.     ich hatte k...</td>\n",
       "    </tr>\n",
       "    <tr>\n",
       "      <th>156555</th>\n",
       "      <td>https://www.kununu.com/de/aviretta/a/SUFqV1J8f...</td>\n",
       "      <td>Umwelt- / Sozialbewusstsein</td>\n",
       "      <td>zu vergessen</td>\n",
       "    </tr>\n",
       "    <tr>\n",
       "      <th>156556</th>\n",
       "      <td>https://www.kununu.com/de/aviretta/a/SUFqV1J8f...</td>\n",
       "      <td>Work-Life-Balance</td>\n",
       "      <td>nicht möglich</td>\n",
       "    </tr>\n",
       "    <tr>\n",
       "      <th>156557</th>\n",
       "      <td>https://www.kununu.com/de/aviretta/a/SUFqV1J8f...</td>\n",
       "      <td>Pro</td>\n",
       "      <td>nichts besonders</td>\n",
       "    </tr>\n",
       "  </tbody>\n",
       "</table>\n",
       "<p>156558 rows × 3 columns</p>\n",
       "</div>"
      ],
      "text/plain": [
       "                                                      URL  \\\n",
       "0            https://www.kununu.com/de/b2x-care-solutions   \n",
       "1            https://www.kununu.com/de/b2x-care-solutions   \n",
       "2       https://www.kununu.com/de/tayfunrecruitment/a/...   \n",
       "3          https://www.kununu.com/de/fuchs-foerdertechnik   \n",
       "4       https://www.kununu.com/de/berufliches-training...   \n",
       "...                                                   ...   \n",
       "156553  https://www.kununu.com/de/aviretta/a/SUFqV1J8f...   \n",
       "156554  https://www.kununu.com/de/aviretta/a/SUFqV1J8f...   \n",
       "156555  https://www.kununu.com/de/aviretta/a/SUFqV1J8f...   \n",
       "156556  https://www.kununu.com/de/aviretta/a/SUFqV1J8f...   \n",
       "156557  https://www.kununu.com/de/aviretta/a/SUFqV1J8f...   \n",
       "\n",
       "                          Kategorie  \\\n",
       "0                               Pro   \n",
       "1                            Contra   \n",
       "2                            Contra   \n",
       "3                            Contra   \n",
       "4                               Pro   \n",
       "...                             ...   \n",
       "156553     Karriere / Weiterbildung   \n",
       "156554           Arbeitsbedingungen   \n",
       "156555  Umwelt- / Sozialbewusstsein   \n",
       "156556            Work-Life-Balance   \n",
       "156557                          Pro   \n",
       "\n",
       "                                                     Text  \n",
       "0       Internationale Teamarbeit, schnelle Entscheidu...  \n",
       "1       Ressourcen und Geld zu wenig, um alle Chancen ...  \n",
       "2                          Es gibt keine Firmenparkplätze  \n",
       "3       keine Aussagen über zukünftige Entwicklungen. ...  \n",
       "4       Super Team, erstklassige Einarbeitung, sehr ha...  \n",
       "...                                                   ...  \n",
       "156553  Mit Leistung kommt man da nicht weiter. Von We...  \n",
       "156554  entspricht nicht den Standard.     ich hatte k...  \n",
       "156555                                       zu vergessen  \n",
       "156556                                      nicht möglich  \n",
       "156557                                   nichts besonders  \n",
       "\n",
       "[156558 rows x 3 columns]"
      ]
     },
     "execution_count": 16,
     "metadata": {},
     "output_type": "execute_result"
    }
   ],
   "source": [
    "data = {\n",
    "    \"URL\": [],\n",
    "    \"Kategorie\": [],\n",
    "    \"Text\": []\n",
    "}\n",
    "with open(\"../data/sent.txt\") as f:\n",
    "    for i, line in enumerate(tqdm(f.readlines(), total=156559)):\n",
    "        # Skip header\n",
    "        if i == 0:\n",
    "            continue\n",
    "        url, category, text = line.strip(\"\\n\").split(\"\\t\")\n",
    "        data[\"URL\"].append(url)\n",
    "        data[\"Kategorie\"].append(category)\n",
    "        data[\"Text\"].append(text)\n",
    "data = pd.DataFrame(data)\n",
    "data"
   ]
  },
  {
   "cell_type": "code",
   "execution_count": 19,
   "metadata": {},
   "outputs": [
    {
     "data": {
      "text/plain": [
       "(array(['Abwechslung', 'Arbeitsatmosphäre', 'Arbeitsbedingungen',\n",
       "        'Arbeitszeiten', 'Aufgaben/Tätigkeiten', 'Ausbildungsvergütung',\n",
       "        'Betriebsklima', 'Contra', 'Die Ausbilder',\n",
       "        'Gehalt / Sozialleistungen', 'Gleichberechtigung', 'Image',\n",
       "        'Interessante Aufgaben', 'Karriere / Weiterbildung',\n",
       "        'Karrierechancen', 'Kollegenzusammenhalt', 'Kommentar',\n",
       "        'Kommunikation', 'Pro', 'Respekt', 'Spaßfaktor',\n",
       "        'Umgang mit älteren Kollegen', 'Umwelt- / Sozialbewusstsein',\n",
       "        'Vorgesetztenverhalten', 'Work-Life-Balance'], dtype=object),\n",
       " array([   23, 11495,  9260,    30,    24,    33,    26, 14323,    32,\n",
       "         9233,  6692,  8034, 10382,  9131,    23, 11300,  1329, 10960,\n",
       "        19947,    24,    27,  6886,  5515, 11921,  9908]))"
      ]
     },
     "execution_count": 19,
     "metadata": {},
     "output_type": "execute_result"
    }
   ],
   "source": [
    "np.unique(data[\"Kategorie\"], return_counts=True)"
   ]
  },
  {
   "cell_type": "code",
   "execution_count": null,
   "metadata": {},
   "outputs": [],
   "source": []
  }
 ],
 "metadata": {
  "kernelspec": {
   "display_name": "Python 3.7.12 ('forschungsseminarenv')",
   "language": "python",
   "name": "python3"
  },
  "language_info": {
   "codemirror_mode": {
    "name": "ipython",
    "version": 3
   },
   "file_extension": ".py",
   "mimetype": "text/x-python",
   "name": "python",
   "nbconvert_exporter": "python",
   "pygments_lexer": "ipython3",
   "version": "3.7.12"
  },
  "orig_nbformat": 4,
  "vscode": {
   "interpreter": {
    "hash": "d245748e11c8878c247be4e09687e2aad67da6b46bdcae8d206186197a99b737"
   }
  }
 },
 "nbformat": 4,
 "nbformat_minor": 2
}
